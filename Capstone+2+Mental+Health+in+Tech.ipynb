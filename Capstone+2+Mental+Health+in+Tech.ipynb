{
 "cells": [
  {
   "cell_type": "markdown",
   "metadata": {},
   "source": [
    "# Intro "
   ]
  },
  {
   "cell_type": "markdown",
   "metadata": {
    "collapsed": true
   },
   "source": [
    "An often misunderstood and not often talked about issue is mental health. Most companies don’t provide mental health with their insurance coverage and often doesn’t show up when mentioning health problems in the US. Mental health affects a large portion of the population and interferes with their daily lives so a question to ask is how it affects their work schedule. From the data provided from multiple data sources we show find out how mental health affects workers within the tech industry, what causes it, some identifiers to show some demographic data about mental health and then find out how much it costs the productivity in that field. "
   ]
  },
  {
   "cell_type": "code",
   "execution_count": 2,
   "metadata": {
    "collapsed": true
   },
   "outputs": [],
   "source": [
    "#Import the needed packages for analysis and visulization\n",
    "\n",
    "import numpy as np # linear algebra\n",
    "import pandas as pd # data processing, CSV file I/O (e.g. pd.read_csv)\n",
    "import matplotlib.pyplot as plt\n",
    "import seaborn as sns\n",
    "from collections import Counter\n",
    "%matplotlib inline"
   ]
  },
  {
   "cell_type": "code",
   "execution_count": 4,
   "metadata": {},
   "outputs": [],
   "source": [
    "#Load and create df\n",
    "df = pd.read_csv('C:/Users/JR/Documents/Data Science Class/Capstone 2/Data/survey.csv')"
   ]
  },
  {
   "cell_type": "code",
   "execution_count": 5,
   "metadata": {},
   "outputs": [
    {
     "data": {
      "text/html": [
       "<div>\n",
       "<style>\n",
       "    .dataframe thead tr:only-child th {\n",
       "        text-align: right;\n",
       "    }\n",
       "\n",
       "    .dataframe thead th {\n",
       "        text-align: left;\n",
       "    }\n",
       "\n",
       "    .dataframe tbody tr th {\n",
       "        vertical-align: top;\n",
       "    }\n",
       "</style>\n",
       "<table border=\"1\" class=\"dataframe\">\n",
       "  <thead>\n",
       "    <tr style=\"text-align: right;\">\n",
       "      <th></th>\n",
       "      <th>Timestamp</th>\n",
       "      <th>Age</th>\n",
       "      <th>Gender</th>\n",
       "      <th>Country</th>\n",
       "      <th>state</th>\n",
       "      <th>self_employed</th>\n",
       "      <th>family_history</th>\n",
       "      <th>treatment</th>\n",
       "      <th>work_interfere</th>\n",
       "      <th>no_employees</th>\n",
       "      <th>...</th>\n",
       "      <th>leave</th>\n",
       "      <th>mental_health_consequence</th>\n",
       "      <th>phys_health_consequence</th>\n",
       "      <th>coworkers</th>\n",
       "      <th>supervisor</th>\n",
       "      <th>mental_health_interview</th>\n",
       "      <th>phys_health_interview</th>\n",
       "      <th>mental_vs_physical</th>\n",
       "      <th>obs_consequence</th>\n",
       "      <th>comments</th>\n",
       "    </tr>\n",
       "  </thead>\n",
       "  <tbody>\n",
       "    <tr>\n",
       "      <th>0</th>\n",
       "      <td>2014-08-27 11:29:31</td>\n",
       "      <td>37</td>\n",
       "      <td>Female</td>\n",
       "      <td>United States</td>\n",
       "      <td>IL</td>\n",
       "      <td>NaN</td>\n",
       "      <td>No</td>\n",
       "      <td>Yes</td>\n",
       "      <td>Often</td>\n",
       "      <td>6-25</td>\n",
       "      <td>...</td>\n",
       "      <td>Somewhat easy</td>\n",
       "      <td>No</td>\n",
       "      <td>No</td>\n",
       "      <td>Some of them</td>\n",
       "      <td>Yes</td>\n",
       "      <td>No</td>\n",
       "      <td>Maybe</td>\n",
       "      <td>Yes</td>\n",
       "      <td>No</td>\n",
       "      <td>NaN</td>\n",
       "    </tr>\n",
       "    <tr>\n",
       "      <th>1</th>\n",
       "      <td>2014-08-27 11:29:37</td>\n",
       "      <td>44</td>\n",
       "      <td>M</td>\n",
       "      <td>United States</td>\n",
       "      <td>IN</td>\n",
       "      <td>NaN</td>\n",
       "      <td>No</td>\n",
       "      <td>No</td>\n",
       "      <td>Rarely</td>\n",
       "      <td>More than 1000</td>\n",
       "      <td>...</td>\n",
       "      <td>Don't know</td>\n",
       "      <td>Maybe</td>\n",
       "      <td>No</td>\n",
       "      <td>No</td>\n",
       "      <td>No</td>\n",
       "      <td>No</td>\n",
       "      <td>No</td>\n",
       "      <td>Don't know</td>\n",
       "      <td>No</td>\n",
       "      <td>NaN</td>\n",
       "    </tr>\n",
       "    <tr>\n",
       "      <th>2</th>\n",
       "      <td>2014-08-27 11:29:44</td>\n",
       "      <td>32</td>\n",
       "      <td>Male</td>\n",
       "      <td>Canada</td>\n",
       "      <td>NaN</td>\n",
       "      <td>NaN</td>\n",
       "      <td>No</td>\n",
       "      <td>No</td>\n",
       "      <td>Rarely</td>\n",
       "      <td>6-25</td>\n",
       "      <td>...</td>\n",
       "      <td>Somewhat difficult</td>\n",
       "      <td>No</td>\n",
       "      <td>No</td>\n",
       "      <td>Yes</td>\n",
       "      <td>Yes</td>\n",
       "      <td>Yes</td>\n",
       "      <td>Yes</td>\n",
       "      <td>No</td>\n",
       "      <td>No</td>\n",
       "      <td>NaN</td>\n",
       "    </tr>\n",
       "    <tr>\n",
       "      <th>3</th>\n",
       "      <td>2014-08-27 11:29:46</td>\n",
       "      <td>31</td>\n",
       "      <td>Male</td>\n",
       "      <td>United Kingdom</td>\n",
       "      <td>NaN</td>\n",
       "      <td>NaN</td>\n",
       "      <td>Yes</td>\n",
       "      <td>Yes</td>\n",
       "      <td>Often</td>\n",
       "      <td>26-100</td>\n",
       "      <td>...</td>\n",
       "      <td>Somewhat difficult</td>\n",
       "      <td>Yes</td>\n",
       "      <td>Yes</td>\n",
       "      <td>Some of them</td>\n",
       "      <td>No</td>\n",
       "      <td>Maybe</td>\n",
       "      <td>Maybe</td>\n",
       "      <td>No</td>\n",
       "      <td>Yes</td>\n",
       "      <td>NaN</td>\n",
       "    </tr>\n",
       "    <tr>\n",
       "      <th>4</th>\n",
       "      <td>2014-08-27 11:30:22</td>\n",
       "      <td>31</td>\n",
       "      <td>Male</td>\n",
       "      <td>United States</td>\n",
       "      <td>TX</td>\n",
       "      <td>NaN</td>\n",
       "      <td>No</td>\n",
       "      <td>No</td>\n",
       "      <td>Never</td>\n",
       "      <td>100-500</td>\n",
       "      <td>...</td>\n",
       "      <td>Don't know</td>\n",
       "      <td>No</td>\n",
       "      <td>No</td>\n",
       "      <td>Some of them</td>\n",
       "      <td>Yes</td>\n",
       "      <td>Yes</td>\n",
       "      <td>Yes</td>\n",
       "      <td>Don't know</td>\n",
       "      <td>No</td>\n",
       "      <td>NaN</td>\n",
       "    </tr>\n",
       "  </tbody>\n",
       "</table>\n",
       "<p>5 rows × 27 columns</p>\n",
       "</div>"
      ],
      "text/plain": [
       "             Timestamp  Age  Gender         Country state self_employed  \\\n",
       "0  2014-08-27 11:29:31   37  Female   United States    IL           NaN   \n",
       "1  2014-08-27 11:29:37   44       M   United States    IN           NaN   \n",
       "2  2014-08-27 11:29:44   32    Male          Canada   NaN           NaN   \n",
       "3  2014-08-27 11:29:46   31    Male  United Kingdom   NaN           NaN   \n",
       "4  2014-08-27 11:30:22   31    Male   United States    TX           NaN   \n",
       "\n",
       "  family_history treatment work_interfere    no_employees   ...     \\\n",
       "0             No       Yes          Often            6-25   ...      \n",
       "1             No        No         Rarely  More than 1000   ...      \n",
       "2             No        No         Rarely            6-25   ...      \n",
       "3            Yes       Yes          Often          26-100   ...      \n",
       "4             No        No          Never         100-500   ...      \n",
       "\n",
       "                leave mental_health_consequence phys_health_consequence  \\\n",
       "0       Somewhat easy                        No                      No   \n",
       "1          Don't know                     Maybe                      No   \n",
       "2  Somewhat difficult                        No                      No   \n",
       "3  Somewhat difficult                       Yes                     Yes   \n",
       "4          Don't know                        No                      No   \n",
       "\n",
       "      coworkers supervisor mental_health_interview phys_health_interview  \\\n",
       "0  Some of them        Yes                      No                 Maybe   \n",
       "1            No         No                      No                    No   \n",
       "2           Yes        Yes                     Yes                   Yes   \n",
       "3  Some of them         No                   Maybe                 Maybe   \n",
       "4  Some of them        Yes                     Yes                   Yes   \n",
       "\n",
       "  mental_vs_physical obs_consequence comments  \n",
       "0                Yes              No      NaN  \n",
       "1         Don't know              No      NaN  \n",
       "2                 No              No      NaN  \n",
       "3                 No             Yes      NaN  \n",
       "4         Don't know              No      NaN  \n",
       "\n",
       "[5 rows x 27 columns]"
      ]
     },
     "execution_count": 5,
     "metadata": {},
     "output_type": "execute_result"
    }
   ],
   "source": [
    "#check to see if Data frame is available and basic info about data\n",
    "df.head()"
   ]
  },
  {
   "cell_type": "code",
   "execution_count": 7,
   "metadata": {},
   "outputs": [
    {
     "name": "stdout",
     "output_type": "stream",
     "text": [
      "<class 'pandas.core.frame.DataFrame'>\n",
      "RangeIndex: 1259 entries, 0 to 1258\n",
      "Data columns (total 27 columns):\n",
      "Timestamp                    1259 non-null object\n",
      "Age                          1259 non-null int64\n",
      "Gender                       1259 non-null object\n",
      "Country                      1259 non-null object\n",
      "state                        744 non-null object\n",
      "self_employed                1241 non-null object\n",
      "family_history               1259 non-null object\n",
      "treatment                    1259 non-null object\n",
      "work_interfere               995 non-null object\n",
      "no_employees                 1259 non-null object\n",
      "remote_work                  1259 non-null object\n",
      "tech_company                 1259 non-null object\n",
      "benefits                     1259 non-null object\n",
      "care_options                 1259 non-null object\n",
      "wellness_program             1259 non-null object\n",
      "seek_help                    1259 non-null object\n",
      "anonymity                    1259 non-null object\n",
      "leave                        1259 non-null object\n",
      "mental_health_consequence    1259 non-null object\n",
      "phys_health_consequence      1259 non-null object\n",
      "coworkers                    1259 non-null object\n",
      "supervisor                   1259 non-null object\n",
      "mental_health_interview      1259 non-null object\n",
      "phys_health_interview        1259 non-null object\n",
      "mental_vs_physical           1259 non-null object\n",
      "obs_consequence              1259 non-null object\n",
      "comments                     164 non-null object\n",
      "dtypes: int64(1), object(26)\n",
      "memory usage: 265.6+ KB\n"
     ]
    }
   ],
   "source": [
    "df.info()"
   ]
  },
  {
   "cell_type": "markdown",
   "metadata": {},
   "source": [
    "The data seems to be in order so we can move on to cleaning, analysis, and visulization of the data."
   ]
  },
  {
   "cell_type": "markdown",
   "metadata": {},
   "source": [
    "# Data Analysis and Visulization"
   ]
  },
  {
   "cell_type": "code",
   "execution_count": 12,
   "metadata": {
    "collapsed": true
   },
   "outputs": [],
   "source": [
    "#Clean Data to be used for Analysis \n",
    "df['Age'] = pd.to_numeric(df['Age'],errors='coerce')\n",
    "def age_process(age):\n",
    "    if age>=0 and age<=100:\n",
    "        return age\n",
    "    else:\n",
    "        return np.nan\n",
    "df['Age'] = df['Age'].apply(age_process)"
   ]
  },
  {
   "cell_type": "code",
   "execution_count": 15,
   "metadata": {},
   "outputs": [
    {
     "data": {
      "text/plain": [
       "<matplotlib.text.Text at 0xafc2160>"
      ]
     },
     "execution_count": 15,
     "metadata": {},
     "output_type": "execute_result"
    },
    {
     "data": {
      "image/png": "[encoded data removed]",
      "text/plain": [
       "<matplotlib.figure.Figure at 0xb286400>"
      ]
     },
     "metadata": {},
     "output_type": "display_data"
    }
   ],
   "source": [
    "fig,ax = plt.subplots(figsize=(8,6))\n",
    "sns.distplot(df['Age'].dropna(),ax=ax,kde=False,color='#ffa726')\n",
    "plt.title('Age Distribution')\n",
    "plt.ylabel('Freq')"
   ]
  },
  {
   "cell_type": "markdown",
   "metadata": {},
   "source": [
    "From this we can see that mental health seems to affect those that are younger more than the older work force. and most are younger than 36."
   ]
  },
  {
   "cell_type": "code",
   "execution_count": 17,
   "metadata": {},
   "outputs": [
    {
     "name": "stdout",
     "output_type": "stream",
     "text": [
      "Mean Age : count    1254.000000\n",
      "mean       32.019139\n",
      "std         7.375005\n",
      "min         5.000000\n",
      "25%        27.000000\n",
      "50%        31.000000\n",
      "75%        36.000000\n",
      "max        72.000000\n",
      "Name: Age, dtype: float64\n"
     ]
    }
   ],
   "source": [
    "s=\"Mean Age : \" +str(df['Age'].describe())\n",
    "print(s)"
   ]
  },
  {
   "cell_type": "code",
   "execution_count": 11,
   "metadata": {},
   "outputs": [
    {
     "data": {
      "image/png": "[encoded data removed]",
      "text/plain": [
       "<matplotlib.figure.Figure at 0xb0bac88>"
      ]
     },
     "metadata": {},
     "output_type": "display_data"
    }
   ],
   "source": [
    "country_count = Counter(df['Country'].dropna().tolist()).most_common(10)\n",
    "country_idx = [country[0] for country in country_count]\n",
    "country_val = [country[1] for country in country_count]\n",
    "fig,ax = plt.subplots(figsize=(8,6))\n",
    "sns.barplot(x = country_idx,y=country_val ,ax =ax)\n",
    "plt.title('Top ten country')\n",
    "plt.xlabel('Country')\n",
    "plt.ylabel('Count')\n",
    "ticks = plt.setp(ax.get_xticklabels(),rotation=90)"
   ]
  },
  {
   "cell_type": "markdown",
   "metadata": {},
   "source": [
    "with the graphs we can see the distrubtion of people affected by mental health issues and the top 10 countries that are affected the most by it, by seeing that the US is the highest by leaps and bounds and precursory knowledge that mental health care is lacking in that regard an area for further investigation is to look at how coverage can affect the rates of mental health. This also means that this study is largely US focused."
   ]
  },
  {
   "cell_type": "code",
   "execution_count": 13,
   "metadata": {
    "collapsed": true
   },
   "outputs": [],
   "source": [
    "#Cleaning Data for further use\n",
    "df['Timestamp'] = pd.to_datetime(df['Timestamp'],format='%Y-%m-%d')\n",
    "df['Year'] = df['Timestamp'].apply(lambda x:x.year)"
   ]
  },
  {
   "cell_type": "code",
   "execution_count": 12,
   "metadata": {},
   "outputs": [
    {
     "data": {
      "text/plain": [
       "<matplotlib.text.Text at 0xb2de588>"
      ]
     },
     "execution_count": 12,
     "metadata": {},
     "output_type": "execute_result"
    },
    {
     "data": {
      "image/png": "[encoded data removed]",
      "text/plain": [
       "<matplotlib.figure.Figure at 0x4a3e7b8>"
      ]
     },
     "metadata": {},
     "output_type": "display_data"
    }
   ],
   "source": [
    "sns.countplot(df['treatment'])\n",
    "plt.title('Treatement Distribution')"
   ]
  },
  {
   "cell_type": "code",
   "execution_count": 14,
   "metadata": {
    "collapsed": true
   },
   "outputs": [],
   "source": [
    "#cleaning Data to make age groups for treatment analysis \n",
    "df['Age_Group'] = pd.cut(df['Age'].dropna(),\n",
    "                         [0,18,25,35,45,99],\n",
    "                         labels=['<18','18-24','25-34','35-44','45+'])"
   ]
  },
  {
   "cell_type": "code",
   "execution_count": 16,
   "metadata": {},
   "outputs": [
    {
     "data": {
      "text/plain": [
       "<matplotlib.text.Text at 0xb446198>"
      ]
     },
     "execution_count": 16,
     "metadata": {},
     "output_type": "execute_result"
    },
    {
     "data": {
      "image/png": "[encoded data removed]",
      "text/plain": [
       "<matplotlib.figure.Figure at 0xb3d89e8>"
      ]
     },
     "metadata": {},
     "output_type": "display_data"
    }
   ],
   "source": [
    "fig,ax =plt.subplots(figsize=(8,6))\n",
    "sns.countplot(data = df,x = 'Age_Group', hue='treatment')\n",
    "plt.title('Age Group vs Treatment')"
   ]
  },
  {
   "cell_type": "markdown",
   "metadata": {},
   "source": [
    "From the two graphs we can see that about 50% of people seek treatment if they have a mental health problem. we can also see that younger workers don't seek treatment compared to the older workers who do. Lets move on from looking at age into looking at gender."
   ]
  },
  {
   "cell_type": "code",
   "execution_count": 20,
   "metadata": {
    "collapsed": true
   },
   "outputs": [],
   "source": [
    "#Cleaning Data to make sure genders are easily defined.\n",
    "male = ['Male ', 'male', 'male ', 'M', 'm', 'make', 'man', 'cis man', 'malr', 'mail', 'mal', 'Make', 'Male', 'Cis Male', 'Cis Man', 'Male (CIS)', 'male (cis)', 'Mal', 'ostensibly male, unsure what that really means', 'cis male', 'Malr', 'maile', 'msle', 'Mail', 'Man']\n",
    "female = ['Female', 'female', 'female ', 'femake', 'cis female', 'F', 'f', 'Woman', 'Female ', 'cis-female/femme', 'Femake', 'Cis Female', 'femail', 'woman', 'Female (cis)', 'female (cis)']\n",
    "trans_other = ['Nah','non-binary','Male-ish','trans-female','queer','Guy (-ish) ^_^','enby','Androgyne','neuter','queer/she/they','nah','Agender','Genderqueer','male leaning androgynous','fluid','trans woman','Female (trans)',\"Trans-female\", \"something kinda male?\", \"queer/she/they\", \"non-binary\",\"nah\", \"all\", \"Enby\", \"fluid\", \"genderqueer\", \"Androgyne\", \"agender\", \"male leaning androgynous\", \"guy (-ish) ^_^\", \"Trans woman\", \"Neuter\", \"female (trans)\", \"queer\", \"ostensibly male, unsure what that really means\"]"
   ]
  },
  {
   "cell_type": "code",
   "execution_count": 21,
   "metadata": {},
   "outputs": [
    {
     "data": {
      "text/plain": [
       "male                  991\n",
       "female                247\n",
       "trans/other            18\n",
       "A little about you      1\n",
       "All                     1\n",
       "p                       1\n",
       "Name: Gender, dtype: int64"
      ]
     },
     "execution_count": 21,
     "metadata": {},
     "output_type": "execute_result"
    }
   ],
   "source": [
    "df.Gender = df.Gender = df.Gender.replace(male, 'male')\n",
    "df.Gender = df.Gender.replace(female, 'female')\n",
    "df.Gender = df.Gender.replace(trans_other, 'trans/other')\n",
    "\n",
    "df['Gender'].value_counts()"
   ]
  },
  {
   "cell_type": "code",
   "execution_count": 25,
   "metadata": {
    "collapsed": true
   },
   "outputs": [],
   "source": [
    "gender_male = df[df.Gender == 'male']\n",
    "gender_female = df[df.Gender == 'female']\n",
    "gender_trans = df[df.Gender == 'trans/other']"
   ]
  },
  {
   "cell_type": "code",
   "execution_count": 26,
   "metadata": {
    "scrolled": true
   },
   "outputs": [
    {
     "data": {
      "image/png": "[encoded data removed]",
      "text/plain": [
       "<matplotlib.figure.Figure at 0xb0c1d68>"
      ]
     },
     "metadata": {},
     "output_type": "display_data"
    }
   ],
   "source": [
    "ax = gender_male['seek_help'].value_counts().plot(kind='bar', figsize = (14,8), alpha = 0.6, label = 'Male', width=0.1, position = 0);\n",
    "ax = gender_female['seek_help'].value_counts().plot(kind='bar', figsize = (14,8), alpha = 0.6, label = 'Female', width=0.1, position = 1, color = 'g');\n",
    "ax = gender_trans['seek_help'].value_counts().sort_values(ascending=True).plot(kind='bar', figsize = (14,8), alpha = 0.6, color = 'r', label = 'Trans & Others', width= 0.1, position = 2, title='Seeking Help Based on Gender')\n",
    "\n",
    "ax.set_xlabel(\"Sought Help\")\n",
    "ax.set_ylabel(\"Count\")\n",
    "plt.tight_layout()\n",
    "plt.legend();"
   ]
  },
  {
   "cell_type": "markdown",
   "metadata": {},
   "source": [
    "Unsuprisingly more men than women show up in a survey involving tech but what is more intresting is that women are likely to seek help/treatment for mental health issues then men."
   ]
  },
  {
   "cell_type": "code",
   "execution_count": 27,
   "metadata": {
    "scrolled": true
   },
   "outputs": [
    {
     "data": {
      "image/png": "[encoded data removed]",
      "text/plain": [
       "<matplotlib.figure.Figure at 0xb103d68>"
      ]
     },
     "metadata": {},
     "output_type": "display_data"
    }
   ],
   "source": [
    "ax = gender_trans['seek_help'].value_counts().sort_values(ascending=True).plot(kind='bar', figsize = (14,8), alpha = 0.6, color = 'r', label = 'Trans & Others', width= 0.15, position = 2, title='Seeking Help Based on Gender - Trans & Others')\n",
    "ax.set_xlabel(\"Sought Help\")\n",
    "ax.set_ylabel(\"Count\")\n",
    "plt.tight_layout()\n",
    "plt.legend();"
   ]
  },
  {
   "cell_type": "code",
   "execution_count": 17,
   "metadata": {},
   "outputs": [
    {
     "data": {
      "text/plain": [
       "<matplotlib.text.Text at 0xb291c50>"
      ]
     },
     "execution_count": 17,
     "metadata": {},
     "output_type": "execute_result"
    },
    {
     "data": {
      "image/png": "[encoded data removed]",
      "text/plain": [
       "<matplotlib.figure.Figure at 0xb34c6d8>"
      ]
     },
     "metadata": {},
     "output_type": "display_data"
    }
   ],
   "source": [
    "fig,ax  =plt.subplots(figsize=(8,6))\n",
    "sns.countplot(df['work_interfere'].dropna(),ax=ax)\n",
    "plt.title('Work interfere Distribution')\n",
    "plt.ylabel('Count')"
   ]
  },
  {
   "cell_type": "code",
   "execution_count": 29,
   "metadata": {
    "scrolled": true
   },
   "outputs": [
    {
     "data": {
      "image/png": "[encoded data removed]",
      "text/plain": [
       "<matplotlib.figure.Figure at 0xb5c4550>"
      ]
     },
     "metadata": {},
     "output_type": "display_data"
    }
   ],
   "source": [
    "plt.figure(figsize=(10,5))\n",
    "sns.countplot(y=\"work_interfere\", hue=\"treatment\", data=df)\n",
    "plt.title(\"Treatment depends on work interfere ?\",fontsize=18,fontweight=\"bold\")\n",
    "plt.ylabel(\"\")\n",
    "plt.show()"
   ]
  },
  {
   "cell_type": "markdown",
   "metadata": {
    "collapsed": true
   },
   "source": [
    "After showing the trans values a little closer we can see that they are less likely to seek treatment than the other genders as well. then seeing it based on work interference values and then seeing that overall as the mental health issues worsen they are more likely to seek help/treatment. Does providing coverage help with that."
   ]
  },
  {
   "cell_type": "code",
   "execution_count": 1,
   "metadata": {
    "collapsed": true
   },
   "outputs": [],
   "source": [
    "#define function for simple crosstab values\n",
    "def renameCol(col,name):\n",
    "    df1=df.rename(columns={col:name})\n",
    "    return df1[name]"
   ]
  },
  {
   "cell_type": "code",
   "execution_count": 6,
   "metadata": {
    "collapsed": true
   },
   "outputs": [],
   "source": [
    "treatmentDf=renameCol(\"treatment\",'Have you sought treatment for a mental health condition?')"
   ]
  },
  {
   "cell_type": "code",
   "execution_count": 7,
   "metadata": {},
   "outputs": [
    {
     "data": {
      "text/html": [
       "<div>\n",
       "<style>\n",
       "    .dataframe thead tr:only-child th {\n",
       "        text-align: right;\n",
       "    }\n",
       "\n",
       "    .dataframe thead th {\n",
       "        text-align: left;\n",
       "    }\n",
       "\n",
       "    .dataframe tbody tr th {\n",
       "        vertical-align: top;\n",
       "    }\n",
       "</style>\n",
       "<table border=\"1\" class=\"dataframe\">\n",
       "  <thead>\n",
       "    <tr style=\"text-align: right;\">\n",
       "      <th>Have you sought treatment for a mental health condition?</th>\n",
       "      <th>No</th>\n",
       "      <th>Yes</th>\n",
       "    </tr>\n",
       "    <tr>\n",
       "      <th>Does your employer provide mental health benefits?</th>\n",
       "      <th></th>\n",
       "      <th></th>\n",
       "    </tr>\n",
       "  </thead>\n",
       "  <tbody>\n",
       "    <tr>\n",
       "      <th>Don't know</th>\n",
       "      <td>0.629902</td>\n",
       "      <td>0.370098</td>\n",
       "    </tr>\n",
       "    <tr>\n",
       "      <th>No</th>\n",
       "      <td>0.516043</td>\n",
       "      <td>0.483957</td>\n",
       "    </tr>\n",
       "    <tr>\n",
       "      <th>Yes</th>\n",
       "      <td>0.360587</td>\n",
       "      <td>0.639413</td>\n",
       "    </tr>\n",
       "  </tbody>\n",
       "</table>\n",
       "</div>"
      ],
      "text/plain": [
       "Have you sought treatment for a mental health condition?        No       Yes\n",
       "Does your employer provide mental health benefits?                          \n",
       "Don't know                                                0.629902  0.370098\n",
       "No                                                        0.516043  0.483957\n",
       "Yes                                                       0.360587  0.639413"
      ]
     },
     "execution_count": 7,
     "metadata": {},
     "output_type": "execute_result"
    }
   ],
   "source": [
    "#benefits: Does your employer provide mental health benefits?\n",
    "benfitsdf=renameCol(\"benefits\",'Does your employer provide mental health benefits?')\n",
    "tab=pd.crosstab(benfitsdf,treatmentDf,normalize = \"index\")\n",
    "tab"
   ]
  },
  {
   "cell_type": "markdown",
   "metadata": {},
   "source": [
    "From this we can see that over 69% do not know if they provide coverage for mental health and that if they are provided mental health coverage they are more likely to seek treatment with a difference being 15%"
   ]
  },
  {
   "cell_type": "code",
   "execution_count": 8,
   "metadata": {},
   "outputs": [
    {
     "data": {
      "text/html": [
       "<div>\n",
       "<style>\n",
       "    .dataframe thead tr:only-child th {\n",
       "        text-align: right;\n",
       "    }\n",
       "\n",
       "    .dataframe thead th {\n",
       "        text-align: left;\n",
       "    }\n",
       "\n",
       "    .dataframe tbody tr th {\n",
       "        vertical-align: top;\n",
       "    }\n",
       "</style>\n",
       "<table border=\"1\" class=\"dataframe\">\n",
       "  <thead>\n",
       "    <tr style=\"text-align: right;\">\n",
       "      <th>Have you sought treatment for a mental health condition?</th>\n",
       "      <th>No</th>\n",
       "      <th>Yes</th>\n",
       "    </tr>\n",
       "    <tr>\n",
       "      <th>Is your anonymity protected if you choose to take advantage of mental health or substance abuse treatment resources?</th>\n",
       "      <th></th>\n",
       "      <th></th>\n",
       "    </tr>\n",
       "  </thead>\n",
       "  <tbody>\n",
       "    <tr>\n",
       "      <th>Don't know</th>\n",
       "      <td>0.547009</td>\n",
       "      <td>0.452991</td>\n",
       "    </tr>\n",
       "    <tr>\n",
       "      <th>No</th>\n",
       "      <td>0.415385</td>\n",
       "      <td>0.584615</td>\n",
       "    </tr>\n",
       "    <tr>\n",
       "      <th>Yes</th>\n",
       "      <td>0.392000</td>\n",
       "      <td>0.608000</td>\n",
       "    </tr>\n",
       "  </tbody>\n",
       "</table>\n",
       "</div>"
      ],
      "text/plain": [
       "Have you sought treatment for a mental health condition?        No       Yes\n",
       " Is your anonymity protected if you choose to t...                          \n",
       "Don't know                                                0.547009  0.452991\n",
       "No                                                        0.415385  0.584615\n",
       "Yes                                                       0.392000  0.608000"
      ]
     },
     "execution_count": 8,
     "metadata": {},
     "output_type": "execute_result"
    }
   ],
   "source": [
    "# does anonymity make it easier\n",
    "anonymitydf=renameCol(\"anonymity\",' Is your anonymity protected if you choose to take advantage of mental health or substance abuse treatment resources?')\n",
    "tab=pd.crosstab(anonymitydf,treatmentDf,normalize = \"index\")\n",
    "tab"
   ]
  },
  {
   "cell_type": "markdown",
   "metadata": {},
   "source": [
    "people are more likely to seek treatment if it is anonymous."
   ]
  },
  {
   "cell_type": "code",
   "execution_count": null,
   "metadata": {
    "collapsed": true
   },
   "outputs": [],
   "source": []
  },
  {
   "cell_type": "markdown",
   "metadata": {
    "collapsed": true
   },
   "source": [
    "# Machine Learning to Find Predictors"
   ]
  },
  {
   "cell_type": "markdown",
   "metadata": {},
   "source": [
    "Since we are trying to find the most likely predictors of mental health and the data has classifiers a logistic regression is the best model to use for prediction."
   ]
  },
  {
   "cell_type": "markdown",
   "metadata": {},
   "source": [
    "## Initial Cleaning of the data so ML can be used."
   ]
  },
  {
   "cell_type": "code",
   "execution_count": 38,
   "metadata": {},
   "outputs": [
    {
     "name": "stdout",
     "output_type": "stream",
     "text": [
      "                           Total   Percent\n",
      "comments                    1095  0.869738\n",
      "self_employed                 18  0.014297\n",
      "Age                            5  0.003971\n",
      "phys_health_interview          0  0.000000\n",
      "mental_health_interview        0  0.000000\n",
      "Gender                         0  0.000000\n",
      "mental_vs_physical             0  0.000000\n",
      "family_history                 0  0.000000\n",
      "treatment                      0  0.000000\n",
      "no_employees                   0  0.000000\n",
      "remote_work                    0  0.000000\n",
      "tech_company                   0  0.000000\n",
      "benefits                       0  0.000000\n",
      "care_options                   0  0.000000\n",
      "wellness_program               0  0.000000\n",
      "obs_consequence                0  0.000000\n",
      "anonymity                      0  0.000000\n",
      "leave                          0  0.000000\n",
      "mental_health_consequence      0  0.000000\n",
      "phys_health_consequence        0  0.000000\n",
      "coworkers                      0  0.000000\n",
      "supervisor                     0  0.000000\n",
      "seek_help                      0  0.000000\n"
     ]
    }
   ],
   "source": [
    "total = df.isnull().sum().sort_values(ascending=False)\n",
    "percent = (df.isnull().sum()/df.isnull().count()).sort_values(ascending=False)\n",
    "missing_data = pd.concat([total, percent], axis=1, keys=['Total', 'Percent'])\n",
    "missing_data.head(20)\n",
    "print(missing_data)"
   ]
  },
  {
   "cell_type": "code",
   "execution_count": 40,
   "metadata": {},
   "outputs": [
    {
     "name": "stdout",
     "output_type": "stream",
     "text": [
      "    Age  Gender self_employed family_history treatment    no_employees  \\\n",
      "0  37.0  Female           NaN             No       Yes            6-25   \n",
      "1  44.0       M           NaN             No        No  More than 1000   \n",
      "2  32.0    Male           NaN             No        No            6-25   \n",
      "3  31.0    Male           NaN            Yes       Yes          26-100   \n",
      "4  31.0    Male           NaN             No        No         100-500   \n",
      "\n",
      "  remote_work tech_company    benefits care_options       ...        \\\n",
      "0          No          Yes         Yes     Not sure       ...         \n",
      "1          No           No  Don't know           No       ...         \n",
      "2          No          Yes          No           No       ...         \n",
      "3          No          Yes          No          Yes       ...         \n",
      "4         Yes          Yes         Yes           No       ...         \n",
      "\n",
      "    anonymity               leave mental_health_consequence  \\\n",
      "0         Yes       Somewhat easy                        No   \n",
      "1  Don't know          Don't know                     Maybe   \n",
      "2  Don't know  Somewhat difficult                        No   \n",
      "3          No  Somewhat difficult                       Yes   \n",
      "4  Don't know          Don't know                        No   \n",
      "\n",
      "  phys_health_consequence     coworkers supervisor mental_health_interview  \\\n",
      "0                      No  Some of them        Yes                      No   \n",
      "1                      No            No         No                      No   \n",
      "2                      No           Yes        Yes                     Yes   \n",
      "3                     Yes  Some of them         No                   Maybe   \n",
      "4                      No  Some of them        Yes                     Yes   \n",
      "\n",
      "  phys_health_interview mental_vs_physical obs_consequence  \n",
      "0                 Maybe                Yes              No  \n",
      "1                    No         Don't know              No  \n",
      "2                   Yes                 No              No  \n",
      "3                 Maybe                 No             Yes  \n",
      "4                   Yes         Don't know              No  \n",
      "\n",
      "[5 rows x 22 columns]\n"
     ]
    }
   ],
   "source": [
    "#Let’s get rid of the variable “comments”, just to make our lives easier.\n",
    "train_df = df.drop(['comments'], axis= 1)\n",
    "print(train_df.head())"
   ]
  },
  {
   "cell_type": "code",
   "execution_count": 41,
   "metadata": {
    "scrolled": true
   },
   "outputs": [
    {
     "data": {
      "text/html": [
       "<div>\n",
       "<style>\n",
       "    .dataframe thead tr:only-child th {\n",
       "        text-align: right;\n",
       "    }\n",
       "\n",
       "    .dataframe thead th {\n",
       "        text-align: left;\n",
       "    }\n",
       "\n",
       "    .dataframe tbody tr th {\n",
       "        vertical-align: top;\n",
       "    }\n",
       "</style>\n",
       "<table border=\"1\" class=\"dataframe\">\n",
       "  <thead>\n",
       "    <tr style=\"text-align: right;\">\n",
       "      <th></th>\n",
       "      <th>Age</th>\n",
       "      <th>Gender</th>\n",
       "      <th>self_employed</th>\n",
       "      <th>family_history</th>\n",
       "      <th>treatment</th>\n",
       "      <th>no_employees</th>\n",
       "      <th>remote_work</th>\n",
       "      <th>tech_company</th>\n",
       "      <th>benefits</th>\n",
       "      <th>care_options</th>\n",
       "      <th>...</th>\n",
       "      <th>anonymity</th>\n",
       "      <th>leave</th>\n",
       "      <th>mental_health_consequence</th>\n",
       "      <th>phys_health_consequence</th>\n",
       "      <th>coworkers</th>\n",
       "      <th>supervisor</th>\n",
       "      <th>mental_health_interview</th>\n",
       "      <th>phys_health_interview</th>\n",
       "      <th>mental_vs_physical</th>\n",
       "      <th>obs_consequence</th>\n",
       "    </tr>\n",
       "  </thead>\n",
       "  <tbody>\n",
       "    <tr>\n",
       "      <th>0</th>\n",
       "      <td>37.0</td>\n",
       "      <td>Female</td>\n",
       "      <td>NaN</td>\n",
       "      <td>No</td>\n",
       "      <td>Yes</td>\n",
       "      <td>6-25</td>\n",
       "      <td>No</td>\n",
       "      <td>Yes</td>\n",
       "      <td>Yes</td>\n",
       "      <td>Not sure</td>\n",
       "      <td>...</td>\n",
       "      <td>Yes</td>\n",
       "      <td>Somewhat easy</td>\n",
       "      <td>No</td>\n",
       "      <td>No</td>\n",
       "      <td>Some of them</td>\n",
       "      <td>Yes</td>\n",
       "      <td>No</td>\n",
       "      <td>Maybe</td>\n",
       "      <td>Yes</td>\n",
       "      <td>No</td>\n",
       "    </tr>\n",
       "    <tr>\n",
       "      <th>1</th>\n",
       "      <td>44.0</td>\n",
       "      <td>M</td>\n",
       "      <td>NaN</td>\n",
       "      <td>No</td>\n",
       "      <td>No</td>\n",
       "      <td>More than 1000</td>\n",
       "      <td>No</td>\n",
       "      <td>No</td>\n",
       "      <td>Don't know</td>\n",
       "      <td>No</td>\n",
       "      <td>...</td>\n",
       "      <td>Don't know</td>\n",
       "      <td>Don't know</td>\n",
       "      <td>Maybe</td>\n",
       "      <td>No</td>\n",
       "      <td>No</td>\n",
       "      <td>No</td>\n",
       "      <td>No</td>\n",
       "      <td>No</td>\n",
       "      <td>Don't know</td>\n",
       "      <td>No</td>\n",
       "    </tr>\n",
       "    <tr>\n",
       "      <th>2</th>\n",
       "      <td>32.0</td>\n",
       "      <td>Male</td>\n",
       "      <td>NaN</td>\n",
       "      <td>No</td>\n",
       "      <td>No</td>\n",
       "      <td>6-25</td>\n",
       "      <td>No</td>\n",
       "      <td>Yes</td>\n",
       "      <td>No</td>\n",
       "      <td>No</td>\n",
       "      <td>...</td>\n",
       "      <td>Don't know</td>\n",
       "      <td>Somewhat difficult</td>\n",
       "      <td>No</td>\n",
       "      <td>No</td>\n",
       "      <td>Yes</td>\n",
       "      <td>Yes</td>\n",
       "      <td>Yes</td>\n",
       "      <td>Yes</td>\n",
       "      <td>No</td>\n",
       "      <td>No</td>\n",
       "    </tr>\n",
       "    <tr>\n",
       "      <th>3</th>\n",
       "      <td>31.0</td>\n",
       "      <td>Male</td>\n",
       "      <td>NaN</td>\n",
       "      <td>Yes</td>\n",
       "      <td>Yes</td>\n",
       "      <td>26-100</td>\n",
       "      <td>No</td>\n",
       "      <td>Yes</td>\n",
       "      <td>No</td>\n",
       "      <td>Yes</td>\n",
       "      <td>...</td>\n",
       "      <td>No</td>\n",
       "      <td>Somewhat difficult</td>\n",
       "      <td>Yes</td>\n",
       "      <td>Yes</td>\n",
       "      <td>Some of them</td>\n",
       "      <td>No</td>\n",
       "      <td>Maybe</td>\n",
       "      <td>Maybe</td>\n",
       "      <td>No</td>\n",
       "      <td>Yes</td>\n",
       "    </tr>\n",
       "    <tr>\n",
       "      <th>4</th>\n",
       "      <td>31.0</td>\n",
       "      <td>Male</td>\n",
       "      <td>NaN</td>\n",
       "      <td>No</td>\n",
       "      <td>No</td>\n",
       "      <td>100-500</td>\n",
       "      <td>Yes</td>\n",
       "      <td>Yes</td>\n",
       "      <td>Yes</td>\n",
       "      <td>No</td>\n",
       "      <td>...</td>\n",
       "      <td>Don't know</td>\n",
       "      <td>Don't know</td>\n",
       "      <td>No</td>\n",
       "      <td>No</td>\n",
       "      <td>Some of them</td>\n",
       "      <td>Yes</td>\n",
       "      <td>Yes</td>\n",
       "      <td>Yes</td>\n",
       "      <td>Don't know</td>\n",
       "      <td>No</td>\n",
       "    </tr>\n",
       "  </tbody>\n",
       "</table>\n",
       "<p>5 rows × 22 columns</p>\n",
       "</div>"
      ],
      "text/plain": [
       "    Age  Gender self_employed family_history treatment    no_employees  \\\n",
       "0  37.0  Female           NaN             No       Yes            6-25   \n",
       "1  44.0       M           NaN             No        No  More than 1000   \n",
       "2  32.0    Male           NaN             No        No            6-25   \n",
       "3  31.0    Male           NaN            Yes       Yes          26-100   \n",
       "4  31.0    Male           NaN             No        No         100-500   \n",
       "\n",
       "  remote_work tech_company    benefits care_options       ...        \\\n",
       "0          No          Yes         Yes     Not sure       ...         \n",
       "1          No           No  Don't know           No       ...         \n",
       "2          No          Yes          No           No       ...         \n",
       "3          No          Yes          No          Yes       ...         \n",
       "4         Yes          Yes         Yes           No       ...         \n",
       "\n",
       "    anonymity               leave mental_health_consequence  \\\n",
       "0         Yes       Somewhat easy                        No   \n",
       "1  Don't know          Don't know                     Maybe   \n",
       "2  Don't know  Somewhat difficult                        No   \n",
       "3          No  Somewhat difficult                       Yes   \n",
       "4  Don't know          Don't know                        No   \n",
       "\n",
       "  phys_health_consequence     coworkers supervisor mental_health_interview  \\\n",
       "0                      No  Some of them        Yes                      No   \n",
       "1                      No            No         No                      No   \n",
       "2                      No           Yes        Yes                     Yes   \n",
       "3                     Yes  Some of them         No                   Maybe   \n",
       "4                      No  Some of them        Yes                     Yes   \n",
       "\n",
       "  phys_health_interview mental_vs_physical obs_consequence  \n",
       "0                 Maybe                Yes              No  \n",
       "1                    No         Don't know              No  \n",
       "2                   Yes                 No              No  \n",
       "3                 Maybe                 No             Yes  \n",
       "4                   Yes         Don't know              No  \n",
       "\n",
       "[5 rows x 22 columns]"
      ]
     },
     "execution_count": 41,
     "metadata": {},
     "output_type": "execute_result"
    }
   ],
   "source": [
    "# Assign default values for each data type\n",
    "defaultInt = 0\n",
    "defaultString = 'NaN'\n",
    "defaultFloat = 0.0\n",
    "\n",
    "# Create lists by data tpe\n",
    "intFeatures = ['Age']\n",
    "stringFeatures = ['Gender', 'Country', 'self_employed', 'family_history', 'treatment', 'work_interfere',\n",
    "                 'no_employees', 'remote_work', 'tech_company', 'anonymity', 'leave', 'mental_health_consequence',\n",
    "                 'phys_health_consequence', 'coworkers', 'supervisor', 'mental_health_interview', 'phys_health_interview',\n",
    "                 'mental_vs_physical', 'obs_consequence', 'benefits', 'care_options', 'wellness_program',\n",
    "                 'seek_help']\n",
    "floatFeatures = []\n",
    "\n",
    "# Clean the NaN's\n",
    "for feature in train_df:\n",
    "    if feature in intFeatures:\n",
    "        train_df[feature] = train_df[feature].fillna(defaultInt)\n",
    "    elif feature in stringFeatures:\n",
    "        train_df[feature] = train_df[feature].fillna(defaultString)\n",
    "    elif feature in floatFeatures:\n",
    "        train_df[feature] = train_df[feature].fillna(defaultFloat)\n",
    "    else:\n",
    "        print('Error: Feature %s not recognized.' % feature)\n",
    "train_df.head(5)  "
   ]
  },
  {
   "cell_type": "code",
   "execution_count": 43,
   "metadata": {},
   "outputs": [
    {
     "name": "stdout",
     "output_type": "stream",
     "text": [
      "['female' 'male' 'trans']\n"
     ]
    }
   ],
   "source": [
    "#clean 'Gender' again\n",
    "#Slower case all columm's elements\n",
    "gender = train_df['Gender'].str.lower()\n",
    "#print(gender)\n",
    "\n",
    "#Select unique elements\n",
    "gender = train_df['Gender'].unique()\n",
    "\n",
    "#Made gender groups\n",
    "male_str = [\"male\", \"m\", \"male-ish\", \"maile\", \"mal\", \"male (cis)\", \"make\", \"male \", \"man\",\"msle\", \"mail\", \"malr\",\"cis man\", \"Cis Male\", \"cis male\"]\n",
    "trans_str = [\"trans-female\", \"something kinda male?\", \"queer/she/they\", \"non-binary\",\"nah\", \"all\", \"enby\", \"fluid\", \"genderqueer\", \"androgyne\", \"agender\", \"male leaning androgynous\", \"guy (-ish) ^_^\", \"trans woman\", \"neuter\", \"female (trans)\", \"queer\", \"ostensibly male, unsure what that really means\"]           \n",
    "female_str = [\"cis female\", \"f\", \"female\", \"woman\",  \"femake\", \"female \",\"cis-female/femme\", \"female (cis)\", \"femail\"]\n",
    "\n",
    "for (row, col) in train_df.iterrows():\n",
    "\n",
    "    if str.lower(col.Gender) in male_str:\n",
    "        train_df['Gender'].replace(to_replace=col.Gender, value='male', inplace=True)\n",
    "\n",
    "    if str.lower(col.Gender) in female_str:\n",
    "        train_df['Gender'].replace(to_replace=col.Gender, value='female', inplace=True)\n",
    "\n",
    "    if str.lower(col.Gender) in trans_str:\n",
    "        train_df['Gender'].replace(to_replace=col.Gender, value='trans', inplace=True)\n",
    "\n",
    "#Get rid of bullshit\n",
    "stk_list = ['A little about you', 'p']\n",
    "train_df = train_df[~train_df['Gender'].isin(stk_list)]\n",
    "\n",
    "print(train_df['Gender'].unique())"
   ]
  },
  {
   "cell_type": "code",
   "execution_count": 42,
   "metadata": {
    "collapsed": true
   },
   "outputs": [],
   "source": [
    "#complete missing age with mean\n",
    "train_df['Age'].fillna(train_df['Age'].median(), inplace = True)"
   ]
  },
  {
   "cell_type": "code",
   "execution_count": 44,
   "metadata": {},
   "outputs": [
    {
     "name": "stdout",
     "output_type": "stream",
     "text": [
      "['No' 'Yes']\n"
     ]
    }
   ],
   "source": [
    "#There are only 0.014% of self employed so let's change NaN to NOT self_employed\n",
    "#Replace \"NaN\" string from defaultString\n",
    "train_df['self_employed'] = train_df['self_employed'].replace([defaultString], 'No')\n",
    "print(train_df['self_employed'].unique())"
   ]
  },
  {
   "cell_type": "code",
   "execution_count": 47,
   "metadata": {
    "collapsed": true
   },
   "outputs": [],
   "source": [
    "# prep\n",
    "from sklearn.model_selection import train_test_split\n",
    "from sklearn import preprocessing\n",
    "from sklearn.datasets import make_classification\n",
    "from sklearn.preprocessing import binarize, LabelEncoder, MinMaxScaler\n"
   ]
  },
  {
   "cell_type": "code",
   "execution_count": 49,
   "metadata": {},
   "outputs": [
    {
     "name": "stdout",
     "output_type": "stream",
     "text": [
      "label_Age [0, 1, 2, 3, 4, 5, 6, 7, 8, 9, 10, 11, 12, 13, 14, 15, 16, 17, 18, 19, 20, 21, 22, 23, 24, 25, 26, 27, 28, 29, 30, 31, 32, 33, 34, 35, 36, 37, 38, 39, 40, 41, 42, 43, 44, 45, 46, 47]\n",
      "label_Gender [0, 1, 2]\n",
      "label_self_employed [0, 1]\n",
      "label_family_history [0, 1]\n",
      "label_treatment [0, 1]\n",
      "label_no_employees [0, 1, 2, 3, 4, 5]\n",
      "label_remote_work [0, 1]\n",
      "label_tech_company [0, 1]\n",
      "label_benefits [0, 1, 2]\n",
      "label_care_options [0, 1, 2]\n",
      "label_wellness_program [0, 1, 2]\n",
      "label_seek_help [0, 1, 2]\n",
      "label_anonymity [0, 1, 2]\n",
      "label_leave [0, 1, 2, 3, 4]\n",
      "label_mental_health_consequence [0, 1, 2]\n",
      "label_phys_health_consequence [0, 1, 2]\n",
      "label_coworkers [0, 1, 2]\n",
      "label_supervisor [0, 1, 2]\n",
      "label_mental_health_interview [0, 1, 2]\n",
      "label_phys_health_interview [0, 1, 2]\n",
      "label_mental_vs_physical [0, 1, 2]\n",
      "label_obs_consequence [0, 1]\n"
     ]
    }
   ],
   "source": [
    "#Encoding data\n",
    "labelDict = {}\n",
    "for feature in train_df:\n",
    "    le = preprocessing.LabelEncoder()\n",
    "    le.fit(train_df[feature])\n",
    "    le_name_mapping = dict(zip(le.classes_, le.transform(le.classes_)))\n",
    "    train_df[feature] = le.transform(train_df[feature])\n",
    "    # Get labels\n",
    "    labelKey = 'label_' + feature\n",
    "    labelValue = [*le_name_mapping]\n",
    "    labelDict[labelKey] =labelValue\n",
    "    \n",
    "for key, value in labelDict.items():     \n",
    "    print(key, value)\n"
   ]
  },
  {
   "cell_type": "code",
   "execution_count": 50,
   "metadata": {},
   "outputs": [
    {
     "name": "stdout",
     "output_type": "stream",
     "text": [
      "                           Total  Percent\n",
      "obs_consequence                0      0.0\n",
      "mental_vs_physical             0      0.0\n",
      "Gender                         0      0.0\n",
      "self_employed                  0      0.0\n",
      "family_history                 0      0.0\n",
      "treatment                      0      0.0\n",
      "no_employees                   0      0.0\n",
      "remote_work                    0      0.0\n",
      "tech_company                   0      0.0\n",
      "benefits                       0      0.0\n",
      "care_options                   0      0.0\n",
      "wellness_program               0      0.0\n",
      "seek_help                      0      0.0\n",
      "anonymity                      0      0.0\n",
      "leave                          0      0.0\n",
      "mental_health_consequence      0      0.0\n",
      "phys_health_consequence        0      0.0\n",
      "coworkers                      0      0.0\n",
      "supervisor                     0      0.0\n",
      "mental_health_interview        0      0.0\n",
      "phys_health_interview          0      0.0\n",
      "Age                            0      0.0\n"
     ]
    }
   ],
   "source": [
    "#missing data\n",
    "total = train_df.isnull().sum().sort_values(ascending=False)\n",
    "percent = (train_df.isnull().sum()/train_df.isnull().count()).sort_values(ascending=False)\n",
    "missing_data = pd.concat([total, percent], axis=1, keys=['Total', 'Percent'])\n",
    "missing_data.head(20)\n",
    "print(missing_data)\n"
   ]
  },
  {
   "cell_type": "code",
   "execution_count": 51,
   "metadata": {},
   "outputs": [
    {
     "data": {
      "text/html": [
       "<div>\n",
       "<style>\n",
       "    .dataframe thead tr:only-child th {\n",
       "        text-align: right;\n",
       "    }\n",
       "\n",
       "    .dataframe thead th {\n",
       "        text-align: left;\n",
       "    }\n",
       "\n",
       "    .dataframe tbody tr th {\n",
       "        vertical-align: top;\n",
       "    }\n",
       "</style>\n",
       "<table border=\"1\" class=\"dataframe\">\n",
       "  <thead>\n",
       "    <tr style=\"text-align: right;\">\n",
       "      <th></th>\n",
       "      <th>Age</th>\n",
       "      <th>Gender</th>\n",
       "      <th>self_employed</th>\n",
       "      <th>family_history</th>\n",
       "      <th>treatment</th>\n",
       "      <th>no_employees</th>\n",
       "      <th>remote_work</th>\n",
       "      <th>tech_company</th>\n",
       "      <th>benefits</th>\n",
       "      <th>care_options</th>\n",
       "      <th>...</th>\n",
       "      <th>anonymity</th>\n",
       "      <th>leave</th>\n",
       "      <th>mental_health_consequence</th>\n",
       "      <th>phys_health_consequence</th>\n",
       "      <th>coworkers</th>\n",
       "      <th>supervisor</th>\n",
       "      <th>mental_health_interview</th>\n",
       "      <th>phys_health_interview</th>\n",
       "      <th>mental_vs_physical</th>\n",
       "      <th>obs_consequence</th>\n",
       "    </tr>\n",
       "  </thead>\n",
       "  <tbody>\n",
       "    <tr>\n",
       "      <th>0</th>\n",
       "      <td>0.468085</td>\n",
       "      <td>0</td>\n",
       "      <td>0</td>\n",
       "      <td>0</td>\n",
       "      <td>1</td>\n",
       "      <td>4</td>\n",
       "      <td>0</td>\n",
       "      <td>1</td>\n",
       "      <td>2</td>\n",
       "      <td>1</td>\n",
       "      <td>...</td>\n",
       "      <td>2</td>\n",
       "      <td>2</td>\n",
       "      <td>1</td>\n",
       "      <td>1</td>\n",
       "      <td>1</td>\n",
       "      <td>2</td>\n",
       "      <td>1</td>\n",
       "      <td>0</td>\n",
       "      <td>2</td>\n",
       "      <td>0</td>\n",
       "    </tr>\n",
       "    <tr>\n",
       "      <th>1</th>\n",
       "      <td>0.617021</td>\n",
       "      <td>1</td>\n",
       "      <td>0</td>\n",
       "      <td>0</td>\n",
       "      <td>0</td>\n",
       "      <td>5</td>\n",
       "      <td>0</td>\n",
       "      <td>0</td>\n",
       "      <td>0</td>\n",
       "      <td>0</td>\n",
       "      <td>...</td>\n",
       "      <td>0</td>\n",
       "      <td>0</td>\n",
       "      <td>0</td>\n",
       "      <td>1</td>\n",
       "      <td>0</td>\n",
       "      <td>0</td>\n",
       "      <td>1</td>\n",
       "      <td>1</td>\n",
       "      <td>0</td>\n",
       "      <td>0</td>\n",
       "    </tr>\n",
       "    <tr>\n",
       "      <th>2</th>\n",
       "      <td>0.361702</td>\n",
       "      <td>1</td>\n",
       "      <td>0</td>\n",
       "      <td>0</td>\n",
       "      <td>0</td>\n",
       "      <td>4</td>\n",
       "      <td>0</td>\n",
       "      <td>1</td>\n",
       "      <td>1</td>\n",
       "      <td>0</td>\n",
       "      <td>...</td>\n",
       "      <td>0</td>\n",
       "      <td>1</td>\n",
       "      <td>1</td>\n",
       "      <td>1</td>\n",
       "      <td>2</td>\n",
       "      <td>2</td>\n",
       "      <td>2</td>\n",
       "      <td>2</td>\n",
       "      <td>1</td>\n",
       "      <td>0</td>\n",
       "    </tr>\n",
       "    <tr>\n",
       "      <th>3</th>\n",
       "      <td>0.340426</td>\n",
       "      <td>1</td>\n",
       "      <td>0</td>\n",
       "      <td>1</td>\n",
       "      <td>1</td>\n",
       "      <td>2</td>\n",
       "      <td>0</td>\n",
       "      <td>1</td>\n",
       "      <td>1</td>\n",
       "      <td>2</td>\n",
       "      <td>...</td>\n",
       "      <td>1</td>\n",
       "      <td>1</td>\n",
       "      <td>2</td>\n",
       "      <td>2</td>\n",
       "      <td>1</td>\n",
       "      <td>0</td>\n",
       "      <td>0</td>\n",
       "      <td>0</td>\n",
       "      <td>1</td>\n",
       "      <td>1</td>\n",
       "    </tr>\n",
       "    <tr>\n",
       "      <th>4</th>\n",
       "      <td>0.340426</td>\n",
       "      <td>1</td>\n",
       "      <td>0</td>\n",
       "      <td>0</td>\n",
       "      <td>0</td>\n",
       "      <td>1</td>\n",
       "      <td>1</td>\n",
       "      <td>1</td>\n",
       "      <td>2</td>\n",
       "      <td>0</td>\n",
       "      <td>...</td>\n",
       "      <td>0</td>\n",
       "      <td>0</td>\n",
       "      <td>1</td>\n",
       "      <td>1</td>\n",
       "      <td>1</td>\n",
       "      <td>2</td>\n",
       "      <td>2</td>\n",
       "      <td>2</td>\n",
       "      <td>0</td>\n",
       "      <td>0</td>\n",
       "    </tr>\n",
       "  </tbody>\n",
       "</table>\n",
       "<p>5 rows × 22 columns</p>\n",
       "</div>"
      ],
      "text/plain": [
       "        Age  Gender  self_employed  family_history  treatment  no_employees  \\\n",
       "0  0.468085       0              0               0          1             4   \n",
       "1  0.617021       1              0               0          0             5   \n",
       "2  0.361702       1              0               0          0             4   \n",
       "3  0.340426       1              0               1          1             2   \n",
       "4  0.340426       1              0               0          0             1   \n",
       "\n",
       "   remote_work  tech_company  benefits  care_options       ...         \\\n",
       "0            0             1         2             1       ...          \n",
       "1            0             0         0             0       ...          \n",
       "2            0             1         1             0       ...          \n",
       "3            0             1         1             2       ...          \n",
       "4            1             1         2             0       ...          \n",
       "\n",
       "   anonymity  leave  mental_health_consequence  phys_health_consequence  \\\n",
       "0          2      2                          1                        1   \n",
       "1          0      0                          0                        1   \n",
       "2          0      1                          1                        1   \n",
       "3          1      1                          2                        2   \n",
       "4          0      0                          1                        1   \n",
       "\n",
       "   coworkers  supervisor  mental_health_interview  phys_health_interview  \\\n",
       "0          1           2                        1                      0   \n",
       "1          0           0                        1                      1   \n",
       "2          2           2                        2                      2   \n",
       "3          1           0                        0                      0   \n",
       "4          1           2                        2                      2   \n",
       "\n",
       "   mental_vs_physical  obs_consequence  \n",
       "0                   2                0  \n",
       "1                   0                0  \n",
       "2                   1                0  \n",
       "3                   1                1  \n",
       "4                   0                0  \n",
       "\n",
       "[5 rows x 22 columns]"
      ]
     },
     "execution_count": 51,
     "metadata": {},
     "output_type": "execute_result"
    }
   ],
   "source": [
    "# Scaling Age\n",
    "scaler = MinMaxScaler()\n",
    "train_df['Age'] = scaler.fit_transform(train_df[['Age']])\n",
    "train_df.head()"
   ]
  },
  {
   "cell_type": "code",
   "execution_count": 53,
   "metadata": {},
   "outputs": [],
   "source": [
    "# define X and y\n",
    "feature_cols = ['Age', 'Gender', 'family_history', 'benefits', 'care_options', 'anonymity', 'leave']\n",
    "X = train_df[feature_cols]\n",
    "y = train_df.treatment\n",
    "\n",
    "# split X and y into training and testing sets\n",
    "X_train, X_test, y_train, y_test = train_test_split(X, y, test_size=0.30, random_state=0)\n",
    "\n",
    "# Create dictionaries for final graph\n",
    "# Use: methodDict['Stacking'] = accuracy_score\n",
    "methodDict = {}\n",
    "rmseDict = ()"
   ]
  },
  {
   "cell_type": "code",
   "execution_count": 55,
   "metadata": {
    "collapsed": true
   },
   "outputs": [],
   "source": [
    "from sklearn.linear_model import LogisticRegression\n",
    "def logisticRegression():\n",
    "    # train a logistic regression model on the training set\n",
    "    logreg = LogisticRegression()\n",
    "    logreg.fit(X_train, y_train)\n",
    "    \n",
    "    # make class predictions for the testing set\n",
    "    y_pred_class = logreg.predict(X_test)"
   ]
  },
  {
   "cell_type": "code",
   "execution_count": 57,
   "metadata": {},
   "outputs": [],
   "source": [
    "pipe_lr = Pipeline([('scl', StandardScaler()),\n",
    "            ('pca', PCA(n_components=2)),\n",
    "            ('clf', LogisticRegression(penalty='l2', C = 10000, random_state=1))])"
   ]
  },
  {
   "cell_type": "code",
   "execution_count": 58,
   "metadata": {},
   "outputs": [
    {
     "name": "stdout",
     "output_type": "stream",
     "text": [
      "CV accuracy scores: [ 0.62921348  0.67045455  0.75        0.60227273  0.77272727  0.64772727\n",
      "  0.67045455  0.70454545  0.67816092  0.57471264]\n",
      "mean CV accuracy: 0.670 +/- 0.058\n"
     ]
    }
   ],
   "source": [
    "from sklearn.model_selection import cross_val_score\n",
    "\n",
    "scores = cross_val_score(estimator=pipe_lr, \n",
    "                         X=X_train, \n",
    "                         y=y_train, \n",
    "                         cv=10,\n",
    "                         n_jobs=1)\n",
    "print('CV accuracy scores: %s' % scores)\n",
    "print('mean CV accuracy: %.3f +/- %.3f' % (np.mean(scores), np.std(scores)))"
   ]
  },
  {
   "cell_type": "code",
   "execution_count": 60,
   "metadata": {},
   "outputs": [],
   "source": [
    "from sklearn.model_selection import learning_curve\n",
    "#Now change the logistic regression to no PCA to counter high bias\n",
    "pipe_lr = Pipeline([('scl', StandardScaler()),\n",
    "            #('pca', PCA(n_components=2)),\n",
    "            ('clf', LogisticRegression(penalty='l2', random_state=1))])\n",
    "\n",
    "train_sizes, train_scores, cv_scores =\\\n",
    "                learning_curve(estimator=pipe_lr, \n",
    "                X=X_train, \n",
    "                y=y_train, \n",
    "                train_sizes=np.linspace(0.1, 1.0, 10), \n",
    "                cv=10,\n",
    "                n_jobs=1)"
   ]
  },
  {
   "cell_type": "code",
   "execution_count": 61,
   "metadata": {
    "collapsed": true
   },
   "outputs": [],
   "source": [
    "train_mean = np.mean(train_scores, axis=1)\n",
    "train_std = np.std(train_scores, axis=1)\n",
    "cv_mean = np.mean(cv_scores, axis=1)\n",
    "cv_std = np.std(cv_scores, axis=1)"
   ]
  },
  {
   "cell_type": "code",
   "execution_count": 62,
   "metadata": {},
   "outputs": [
    {
     "data": {
      "image/png": "[encoded data removed]",
      "text/plain": [
       "<matplotlib.figure.Figure at 0xaf540f0>"
      ]
     },
     "metadata": {},
     "output_type": "display_data"
    }
   ],
   "source": [
    "plt.plot(train_sizes, train_mean, \n",
    "         color='blue', marker='o', \n",
    "         markersize=5, label='training accuracy')\n",
    "\n",
    "plt.fill_between(train_sizes, \n",
    "                 train_mean + train_std,\n",
    "                 train_mean - train_std, \n",
    "                 alpha=0.15, color='blue')\n",
    "\n",
    "plt.plot(train_sizes, cv_mean, \n",
    "         color='green', linestyle='--', \n",
    "         marker='s', markersize=5, \n",
    "         label='validation accuracy')\n",
    "\n",
    "plt.fill_between(train_sizes, \n",
    "                 cv_mean + cv_std,\n",
    "                 cv_mean - cv_std, \n",
    "                 alpha=0.15, color='green')\n",
    "\n",
    "plt.grid()\n",
    "plt.xlabel('Number of training samples')\n",
    "plt.ylabel('Accuracy')\n",
    "plt.legend(loc='lower right')\n",
    "plt.ylim([0.4, 1.0])\n",
    "plt.tight_layout()"
   ]
  },
  {
   "cell_type": "code",
   "execution_count": 63,
   "metadata": {},
   "outputs": [
    {
     "data": {
      "image/png": "[encoded data removed]",
      "text/plain": [
       "<matplotlib.figure.Figure at 0xb12c630>"
      ]
     },
     "metadata": {},
     "output_type": "display_data"
    }
   ],
   "source": [
    "from sklearn.model_selection import validation_curve\n",
    "\n",
    "param_range = [0.001, 0.01, 0.1, 1.0, 10.0, 100.0, 1000.0, 10000.0]\n",
    "train_scores, test_scores = validation_curve(\n",
    "                estimator=pipe_lr, \n",
    "                X=X_train, \n",
    "                y=y_train, \n",
    "                param_name='clf__C', \n",
    "                param_range=param_range,\n",
    "                cv=10)\n",
    "\n",
    "train_mean = np.mean(train_scores, axis=1)\n",
    "train_std = np.std(train_scores, axis=1)\n",
    "test_mean = np.mean(test_scores, axis=1)\n",
    "test_std = np.std(test_scores, axis=1)\n",
    "\n",
    "plt.plot(param_range, train_mean, \n",
    "         color='blue', marker='o', \n",
    "         markersize=5, label='training accuracy')\n",
    "\n",
    "plt.fill_between(param_range, train_mean + train_std,\n",
    "                 train_mean - train_std, alpha=0.15,\n",
    "                 color='blue')\n",
    "\n",
    "plt.plot(param_range, test_mean, \n",
    "         color='green', linestyle='--', \n",
    "         marker='s', markersize=5, \n",
    "         label='validation accuracy')\n",
    "\n",
    "plt.fill_between(param_range, \n",
    "                 test_mean + test_std,\n",
    "                 test_mean - test_std, \n",
    "                 alpha=0.15, color='green')\n",
    "\n",
    "plt.grid()\n",
    "plt.xscale('log')\n",
    "plt.legend(loc='lower right')\n",
    "plt.xlabel('Parameter C')\n",
    "plt.ylabel('Accuracy')\n",
    "plt.ylim([0.6, 0.8])\n",
    "plt.tight_layout()\n",
    "# plt.savefig('./figures/validation_curve.png', dpi=300)\n",
    "plt.show()"
   ]
  },
  {
   "cell_type": "code",
   "execution_count": 69,
   "metadata": {},
   "outputs": [
    {
     "name": "stdout",
     "output_type": "stream",
     "text": [
      "0.707622298066\n",
      "{'clf__C': 0.01}\n"
     ]
    }
   ],
   "source": [
    "param_range = [0.0001, 0.001, 0.01, 0.1, 1.0, 10.0, 100.0, 1000.0]\n",
    "\n",
    "param_grid = [{'clf__C': param_range}]\n",
    "\n",
    "#this bit is the inner loop\n",
    "gs = GridSearchCV(estimator=pipe_lr, \n",
    "                            param_grid=param_grid, #this bit does the grid search of the parameter space i.e. linear/rbf and parameter tuning\n",
    "                            scoring='accuracy', \n",
    "                            cv=2,\n",
    "                            n_jobs=-1)\n",
    "\n",
    "gs = gs.fit(X_train, y_train)\n",
    "print(gs.best_score_)\n",
    "print(gs.best_params_)"
   ]
  },
  {
   "cell_type": "code",
   "execution_count": 70,
   "metadata": {},
   "outputs": [
    {
     "name": "stdout",
     "output_type": "stream",
     "text": [
      "CV accuracy: 0.680 +/- 0.030\n",
      "0.682593856655\n",
      "{'max_depth': 3}\n"
     ]
    }
   ],
   "source": [
    "from sklearn.tree import DecisionTreeClassifier\n",
    "gs = GridSearchCV(estimator=DecisionTreeClassifier(random_state=0), \n",
    "                            param_grid=[{'max_depth': [1, 2, 3, 4, 5, 6, 7, None]}], \n",
    "                            scoring='accuracy', \n",
    "                            cv=2)\n",
    "scores = cross_val_score(gs, X_train, y_train, scoring='accuracy', cv=5)\n",
    "print('CV accuracy: %.3f +/- %.3f' % (np.mean(scores), np.std(scores)))\n",
    "\n",
    "gs = gs.fit(X_train, y_train)\n",
    "print(gs.best_score_)\n",
    "print(gs.best_params_)"
   ]
  },
  {
   "cell_type": "code",
   "execution_count": 71,
   "metadata": {
    "collapsed": true
   },
   "outputs": [],
   "source": [
    "from sklearn.metrics import classification_report"
   ]
  },
  {
   "cell_type": "code",
   "execution_count": 72,
   "metadata": {
    "collapsed": true
   },
   "outputs": [],
   "source": [
    "stdsc = StandardScaler()\n",
    "X_train_std = stdsc.fit_transform(X_train)\n",
    "X_test_std = stdsc.fit_transform(X_test)"
   ]
  },
  {
   "cell_type": "code",
   "execution_count": 73,
   "metadata": {},
   "outputs": [
    {
     "name": "stdout",
     "output_type": "stream",
     "text": [
      "             precision    recall  f1-score   support\n",
      "\n",
      "          0       0.72      0.69      0.70       191\n",
      "          1       0.70      0.72      0.71       187\n",
      "\n",
      "avg / total       0.71      0.71      0.71       378\n",
      "\n"
     ]
    }
   ],
   "source": [
    "#svc = SVC(kernel='linear',C=0.1).fit(X_train_std, y_train)\n",
    "clf = LogisticRegression(C=0.01).fit(X_train_std,y_train)\n",
    "y_true, y_pred = y_test, clf.predict(X_test_std)\n",
    "print(classification_report(y_true, y_pred))"
   ]
  },
  {
   "cell_type": "code",
   "execution_count": 74,
   "metadata": {
    "collapsed": true
   },
   "outputs": [],
   "source": [
    "order = np.argsort(abs(clf.coef_))\n",
    "lab = clf.coef_.ravel()\n",
    "lab = lab[order].T.ravel()\n",
    "feature_names = X_train.columns[order].ravel()"
   ]
  },
  {
   "cell_type": "code",
   "execution_count": 75,
   "metadata": {},
   "outputs": [
    {
     "data": {
      "image/png": "[encoded data removed]",
      "text/plain": [
       "<matplotlib.figure.Figure at 0xb1ed9e8>"
      ]
     },
     "metadata": {},
     "output_type": "display_data"
    }
   ],
   "source": [
    "plt.figure(figsize=(13, 5))\n",
    "plt.bar(np.arange(len(X_train.columns)),lab)\n",
    "plt.xticks(np.arange(1+len(X_train.columns)),feature_names, rotation=60, ha='right')\n",
    "plt.show()"
   ]
  },
  {
   "cell_type": "markdown",
   "metadata": {},
   "source": [
    "# Machine Learning Conclusion"
   ]
  },
  {
   "cell_type": "markdown",
   "metadata": {},
   "source": [
    "From this we see the lost likely causes of seeking mental health treatment are having a previous family history of mental issues, both benefits and care options avaliable and that increasing benefits would help lessen the issue."
   ]
  },
  {
   "cell_type": "markdown",
   "metadata": {},
   "source": [
    "# Finding the economic impact of Mental Health"
   ]
  },
  {
   "cell_type": "code",
   "execution_count": 98,
   "metadata": {},
   "outputs": [
    {
     "data": {
      "text/html": [
       "<div>\n",
       "<style>\n",
       "    .dataframe thead tr:only-child th {\n",
       "        text-align: right;\n",
       "    }\n",
       "\n",
       "    .dataframe thead th {\n",
       "        text-align: left;\n",
       "    }\n",
       "\n",
       "    .dataframe tbody tr th {\n",
       "        vertical-align: top;\n",
       "    }\n",
       "</style>\n",
       "<table border=\"1\" class=\"dataframe\">\n",
       "  <thead>\n",
       "    <tr style=\"text-align: right;\">\n",
       "      <th></th>\n",
       "      <th>country</th>\n",
       "      <th>variable</th>\n",
       "      <th>description</th>\n",
       "      <th>code</th>\n",
       "      <th>2000</th>\n",
       "      <th>2001</th>\n",
       "      <th>2002</th>\n",
       "      <th>2003</th>\n",
       "      <th>2004</th>\n",
       "      <th>2005</th>\n",
       "      <th>2006</th>\n",
       "      <th>2007</th>\n",
       "      <th>2008</th>\n",
       "      <th>2009</th>\n",
       "      <th>2010</th>\n",
       "      <th>2011</th>\n",
       "      <th>2012</th>\n",
       "      <th>2013</th>\n",
       "      <th>2014</th>\n",
       "    </tr>\n",
       "  </thead>\n",
       "  <tbody>\n",
       "    <tr>\n",
       "      <th>0</th>\n",
       "      <td>AUS</td>\n",
       "      <td>CAP</td>\n",
       "      <td>Crop and animal production, hunting and relate...</td>\n",
       "      <td>A01</td>\n",
       "      <td>9739.77</td>\n",
       "      <td>13729.03</td>\n",
       "      <td>9726.30</td>\n",
       "      <td>11808.62</td>\n",
       "      <td>11163.98</td>\n",
       "      <td>12429.90</td>\n",
       "      <td>8706.66</td>\n",
       "      <td>11227.29</td>\n",
       "      <td>12556.71</td>\n",
       "      <td>13768.79</td>\n",
       "      <td>18441.27</td>\n",
       "      <td>20106.04</td>\n",
       "      <td>19659.28</td>\n",
       "      <td>18986.06</td>\n",
       "      <td>20525.22</td>\n",
       "    </tr>\n",
       "    <tr>\n",
       "      <th>1</th>\n",
       "      <td>AUS</td>\n",
       "      <td>CAP</td>\n",
       "      <td>Forestry and logging</td>\n",
       "      <td>A02</td>\n",
       "      <td>582.69</td>\n",
       "      <td>740.04</td>\n",
       "      <td>540.79</td>\n",
       "      <td>651.96</td>\n",
       "      <td>649.34</td>\n",
       "      <td>676.64</td>\n",
       "      <td>549.27</td>\n",
       "      <td>616.70</td>\n",
       "      <td>716.86</td>\n",
       "      <td>749.91</td>\n",
       "      <td>894.94</td>\n",
       "      <td>923.40</td>\n",
       "      <td>1001.44</td>\n",
       "      <td>1247.96</td>\n",
       "      <td>1206.44</td>\n",
       "    </tr>\n",
       "    <tr>\n",
       "      <th>2</th>\n",
       "      <td>AUS</td>\n",
       "      <td>CAP</td>\n",
       "      <td>Fishing and aquaculture</td>\n",
       "      <td>A03</td>\n",
       "      <td>869.31</td>\n",
       "      <td>1122.29</td>\n",
       "      <td>652.69</td>\n",
       "      <td>1024.72</td>\n",
       "      <td>1059.83</td>\n",
       "      <td>923.46</td>\n",
       "      <td>904.15</td>\n",
       "      <td>863.98</td>\n",
       "      <td>1146.37</td>\n",
       "      <td>1108.94</td>\n",
       "      <td>1116.14</td>\n",
       "      <td>1213.94</td>\n",
       "      <td>1182.11</td>\n",
       "      <td>1388.98</td>\n",
       "      <td>1475.22</td>\n",
       "    </tr>\n",
       "    <tr>\n",
       "      <th>3</th>\n",
       "      <td>AUS</td>\n",
       "      <td>CAP</td>\n",
       "      <td>Mining and quarrying</td>\n",
       "      <td>B</td>\n",
       "      <td>28250.15</td>\n",
       "      <td>28932.78</td>\n",
       "      <td>28377.38</td>\n",
       "      <td>26027.40</td>\n",
       "      <td>37313.82</td>\n",
       "      <td>54412.79</td>\n",
       "      <td>63297.39</td>\n",
       "      <td>67706.72</td>\n",
       "      <td>96683.63</td>\n",
       "      <td>76648.61</td>\n",
       "      <td>110194.37</td>\n",
       "      <td>106946.58</td>\n",
       "      <td>87566.74</td>\n",
       "      <td>100888.01</td>\n",
       "      <td>79601.17</td>\n",
       "    </tr>\n",
       "    <tr>\n",
       "      <th>4</th>\n",
       "      <td>AUS</td>\n",
       "      <td>CAP</td>\n",
       "      <td>Manufacture of food products, beverages and to...</td>\n",
       "      <td>C10-C12</td>\n",
       "      <td>6401.86</td>\n",
       "      <td>6680.15</td>\n",
       "      <td>7409.88</td>\n",
       "      <td>8544.95</td>\n",
       "      <td>8260.00</td>\n",
       "      <td>8518.42</td>\n",
       "      <td>8543.24</td>\n",
       "      <td>9302.61</td>\n",
       "      <td>9580.32</td>\n",
       "      <td>9498.97</td>\n",
       "      <td>9565.67</td>\n",
       "      <td>9321.31</td>\n",
       "      <td>8989.36</td>\n",
       "      <td>9808.71</td>\n",
       "      <td>9928.13</td>\n",
       "    </tr>\n",
       "  </tbody>\n",
       "</table>\n",
       "</div>"
      ],
      "text/plain": [
       "  country variable                                        description  \\\n",
       "0     AUS      CAP  Crop and animal production, hunting and relate...   \n",
       "1     AUS      CAP                               Forestry and logging   \n",
       "2     AUS      CAP                            Fishing and aquaculture   \n",
       "3     AUS      CAP                               Mining and quarrying   \n",
       "4     AUS      CAP  Manufacture of food products, beverages and to...   \n",
       "\n",
       "      code      2000      2001      2002      2003      2004      2005  \\\n",
       "0      A01   9739.77  13729.03   9726.30  11808.62  11163.98  12429.90   \n",
       "1      A02    582.69    740.04    540.79    651.96    649.34    676.64   \n",
       "2      A03    869.31   1122.29    652.69   1024.72   1059.83    923.46   \n",
       "3        B  28250.15  28932.78  28377.38  26027.40  37313.82  54412.79   \n",
       "4  C10-C12   6401.86   6680.15   7409.88   8544.95   8260.00   8518.42   \n",
       "\n",
       "       2006      2007      2008      2009       2010       2011      2012  \\\n",
       "0   8706.66  11227.29  12556.71  13768.79   18441.27   20106.04  19659.28   \n",
       "1    549.27    616.70    716.86    749.91     894.94     923.40   1001.44   \n",
       "2    904.15    863.98   1146.37   1108.94    1116.14    1213.94   1182.11   \n",
       "3  63297.39  67706.72  96683.63  76648.61  110194.37  106946.58  87566.74   \n",
       "4   8543.24   9302.61   9580.32   9498.97    9565.67    9321.31   8989.36   \n",
       "\n",
       "        2013      2014  \n",
       "0   18986.06  20525.22  \n",
       "1    1247.96   1206.44  \n",
       "2    1388.98   1475.22  \n",
       "3  100888.01  79601.17  \n",
       "4    9808.71   9928.13  "
      ]
     },
     "execution_count": 98,
     "metadata": {},
     "output_type": "execute_result"
    }
   ],
   "source": [
    "#Accesing and loading the data \n",
    "xl_prod = pd.ExcelFile('C:/Users/JR/Documents/Data Science Class/Capstone 2/Data/Labor_and_Prod.xlsx')\n",
    "xl_percent = pd.ExcelFile('C:/Users/JR/Documents/Data Science Class/Capstone 2/Data/prod3.labcmp.xlsx')\n",
    "df_prod = xl_prod.parse('DATA')\n",
    "df_prod.head()"
   ]
  },
  {
   "cell_type": "code",
   "execution_count": 99,
   "metadata": {},
   "outputs": [
    {
     "data": {
      "text/html": [
       "<div>\n",
       "<style>\n",
       "    .dataframe thead tr:only-child th {\n",
       "        text-align: right;\n",
       "    }\n",
       "\n",
       "    .dataframe thead th {\n",
       "        text-align: left;\n",
       "    }\n",
       "\n",
       "    .dataframe tbody tr th {\n",
       "        vertical-align: top;\n",
       "    }\n",
       "</style>\n",
       "<table border=\"1\" class=\"dataframe\">\n",
       "  <thead>\n",
       "    <tr style=\"text-align: right;\">\n",
       "      <th></th>\n",
       "      <th>Unnamed: 0</th>\n",
       "      <th>1987</th>\n",
       "      <th>1988</th>\n",
       "      <th>1989</th>\n",
       "      <th>1990</th>\n",
       "      <th>1991</th>\n",
       "      <th>1992</th>\n",
       "      <th>1993</th>\n",
       "      <th>1994</th>\n",
       "      <th>1995</th>\n",
       "      <th>...</th>\n",
       "      <th>2006</th>\n",
       "      <th>2007</th>\n",
       "      <th>2008</th>\n",
       "      <th>2009</th>\n",
       "      <th>2010</th>\n",
       "      <th>2011</th>\n",
       "      <th>2012</th>\n",
       "      <th>2013</th>\n",
       "      <th>2014</th>\n",
       "      <th>2015</th>\n",
       "    </tr>\n",
       "  </thead>\n",
       "  <tbody>\n",
       "    <tr>\n",
       "      <th>0</th>\n",
       "      <td>Farm Sector (111,112)</td>\n",
       "      <td>92.956</td>\n",
       "      <td>92.802</td>\n",
       "      <td>93.070</td>\n",
       "      <td>92.734</td>\n",
       "      <td>93.473</td>\n",
       "      <td>94.094</td>\n",
       "      <td>93.907</td>\n",
       "      <td>95.186</td>\n",
       "      <td>95.379</td>\n",
       "      <td>...</td>\n",
       "      <td>97.510</td>\n",
       "      <td>97.108</td>\n",
       "      <td>98.797</td>\n",
       "      <td>100.0</td>\n",
       "      <td>98.366</td>\n",
       "      <td>96.996</td>\n",
       "      <td>97.467</td>\n",
       "      <td>98.037</td>\n",
       "      <td>96.908</td>\n",
       "      <td>99.284</td>\n",
       "    </tr>\n",
       "    <tr>\n",
       "      <th>1</th>\n",
       "      <td>Forestry, Fishing, and Related Activities (113...</td>\n",
       "      <td>94.087</td>\n",
       "      <td>94.409</td>\n",
       "      <td>93.939</td>\n",
       "      <td>94.388</td>\n",
       "      <td>94.685</td>\n",
       "      <td>91.993</td>\n",
       "      <td>92.631</td>\n",
       "      <td>94.378</td>\n",
       "      <td>94.050</td>\n",
       "      <td>...</td>\n",
       "      <td>96.881</td>\n",
       "      <td>97.304</td>\n",
       "      <td>98.732</td>\n",
       "      <td>100.0</td>\n",
       "      <td>98.754</td>\n",
       "      <td>97.896</td>\n",
       "      <td>98.270</td>\n",
       "      <td>98.132</td>\n",
       "      <td>97.082</td>\n",
       "      <td>99.580</td>\n",
       "    </tr>\n",
       "    <tr>\n",
       "      <th>2</th>\n",
       "      <td>Oil and Gas Extraction (211)</td>\n",
       "      <td>93.376</td>\n",
       "      <td>91.089</td>\n",
       "      <td>94.362</td>\n",
       "      <td>90.273</td>\n",
       "      <td>88.101</td>\n",
       "      <td>86.284</td>\n",
       "      <td>93.530</td>\n",
       "      <td>92.129</td>\n",
       "      <td>87.703</td>\n",
       "      <td>...</td>\n",
       "      <td>105.028</td>\n",
       "      <td>105.136</td>\n",
       "      <td>100.388</td>\n",
       "      <td>100.0</td>\n",
       "      <td>99.519</td>\n",
       "      <td>86.666</td>\n",
       "      <td>109.629</td>\n",
       "      <td>105.790</td>\n",
       "      <td>100.685</td>\n",
       "      <td>106.426</td>\n",
       "    </tr>\n",
       "    <tr>\n",
       "      <th>3</th>\n",
       "      <td>Mining, except Oil and Gas (212)</td>\n",
       "      <td>94.402</td>\n",
       "      <td>92.152</td>\n",
       "      <td>93.638</td>\n",
       "      <td>92.353</td>\n",
       "      <td>94.365</td>\n",
       "      <td>94.911</td>\n",
       "      <td>93.654</td>\n",
       "      <td>98.358</td>\n",
       "      <td>97.995</td>\n",
       "      <td>...</td>\n",
       "      <td>96.825</td>\n",
       "      <td>98.099</td>\n",
       "      <td>99.104</td>\n",
       "      <td>100.0</td>\n",
       "      <td>97.628</td>\n",
       "      <td>99.327</td>\n",
       "      <td>101.951</td>\n",
       "      <td>103.994</td>\n",
       "      <td>99.613</td>\n",
       "      <td>99.016</td>\n",
       "    </tr>\n",
       "    <tr>\n",
       "      <th>4</th>\n",
       "      <td>Support Activities for Mining (213)</td>\n",
       "      <td>107.893</td>\n",
       "      <td>104.894</td>\n",
       "      <td>108.715</td>\n",
       "      <td>104.026</td>\n",
       "      <td>101.723</td>\n",
       "      <td>99.973</td>\n",
       "      <td>108.973</td>\n",
       "      <td>107.926</td>\n",
       "      <td>103.179</td>\n",
       "      <td>...</td>\n",
       "      <td>94.194</td>\n",
       "      <td>94.936</td>\n",
       "      <td>96.185</td>\n",
       "      <td>100.0</td>\n",
       "      <td>98.563</td>\n",
       "      <td>94.510</td>\n",
       "      <td>95.894</td>\n",
       "      <td>99.291</td>\n",
       "      <td>98.635</td>\n",
       "      <td>103.662</td>\n",
       "    </tr>\n",
       "  </tbody>\n",
       "</table>\n",
       "<p>5 rows × 30 columns</p>\n",
       "</div>"
      ],
      "text/plain": [
       "                                          Unnamed: 0     1987     1988  \\\n",
       "0                              Farm Sector (111,112)   92.956   92.802   \n",
       "1  Forestry, Fishing, and Related Activities (113...   94.087   94.409   \n",
       "2                       Oil and Gas Extraction (211)   93.376   91.089   \n",
       "3                   Mining, except Oil and Gas (212)   94.402   92.152   \n",
       "4                Support Activities for Mining (213)  107.893  104.894   \n",
       "\n",
       "      1989     1990     1991    1992     1993     1994     1995   ...     \\\n",
       "0   93.070   92.734   93.473  94.094   93.907   95.186   95.379   ...      \n",
       "1   93.939   94.388   94.685  91.993   92.631   94.378   94.050   ...      \n",
       "2   94.362   90.273   88.101  86.284   93.530   92.129   87.703   ...      \n",
       "3   93.638   92.353   94.365  94.911   93.654   98.358   97.995   ...      \n",
       "4  108.715  104.026  101.723  99.973  108.973  107.926  103.179   ...      \n",
       "\n",
       "      2006     2007     2008   2009    2010    2011     2012     2013  \\\n",
       "0   97.510   97.108   98.797  100.0  98.366  96.996   97.467   98.037   \n",
       "1   96.881   97.304   98.732  100.0  98.754  97.896   98.270   98.132   \n",
       "2  105.028  105.136  100.388  100.0  99.519  86.666  109.629  105.790   \n",
       "3   96.825   98.099   99.104  100.0  97.628  99.327  101.951  103.994   \n",
       "4   94.194   94.936   96.185  100.0  98.563  94.510   95.894   99.291   \n",
       "\n",
       "      2014     2015  \n",
       "0   96.908   99.284  \n",
       "1   97.082   99.580  \n",
       "2  100.685  106.426  \n",
       "3   99.613   99.016  \n",
       "4   98.635  103.662  \n",
       "\n",
       "[5 rows x 30 columns]"
      ]
     },
     "execution_count": 99,
     "metadata": {},
     "output_type": "execute_result"
    }
   ],
   "source": [
    "df_percent = xl_percent.parse(1, skiprows=1)\n",
    "df_percent.head()"
   ]
  },
  {
   "cell_type": "markdown",
   "metadata": {},
   "source": [
    "Now that we have both economic datasets we need to clean them so that we can focus on the tech industry, see its growth, then see how mental health overall affects the total economic impact."
   ]
  },
  {
   "cell_type": "code",
   "execution_count": 100,
   "metadata": {},
   "outputs": [
    {
     "name": "stdout",
     "output_type": "stream",
     "text": [
      "<class 'pandas.core.frame.DataFrame'>\n",
      "RangeIndex: 38524 entries, 0 to 38523\n",
      "Data columns (total 19 columns):\n",
      "country        38524 non-null object\n",
      "variable       38524 non-null object\n",
      "description    38524 non-null object\n",
      "code           38524 non-null object\n",
      "2000           38381 non-null float64\n",
      "2001           38381 non-null float64\n",
      "2002           38381 non-null float64\n",
      "2003           38381 non-null float64\n",
      "2004           38377 non-null float64\n",
      "2005           38380 non-null float64\n",
      "2006           38380 non-null float64\n",
      "2007           38384 non-null float64\n",
      "2008           38381 non-null float64\n",
      "2009           38384 non-null float64\n",
      "2010           38384 non-null float64\n",
      "2011           38381 non-null float64\n",
      "2012           38381 non-null float64\n",
      "2013           38381 non-null float64\n",
      "2014           38381 non-null float64\n",
      "dtypes: float64(15), object(4)\n",
      "memory usage: 5.6+ MB\n"
     ]
    }
   ],
   "source": [
    "df_prod.info()"
   ]
  },
  {
   "cell_type": "code",
   "execution_count": 101,
   "metadata": {},
   "outputs": [
    {
     "data": {
      "text/html": [
       "<div>\n",
       "<style>\n",
       "    .dataframe thead tr:only-child th {\n",
       "        text-align: right;\n",
       "    }\n",
       "\n",
       "    .dataframe thead th {\n",
       "        text-align: left;\n",
       "    }\n",
       "\n",
       "    .dataframe tbody tr th {\n",
       "        vertical-align: top;\n",
       "    }\n",
       "</style>\n",
       "<table border=\"1\" class=\"dataframe\">\n",
       "  <thead>\n",
       "    <tr style=\"text-align: right;\">\n",
       "      <th></th>\n",
       "      <th>country</th>\n",
       "      <th>variable</th>\n",
       "      <th>description</th>\n",
       "      <th>code</th>\n",
       "      <th>2000</th>\n",
       "      <th>2001</th>\n",
       "      <th>2002</th>\n",
       "      <th>2003</th>\n",
       "      <th>2004</th>\n",
       "      <th>2005</th>\n",
       "      <th>2006</th>\n",
       "      <th>2007</th>\n",
       "      <th>2008</th>\n",
       "      <th>2009</th>\n",
       "      <th>2010</th>\n",
       "      <th>2011</th>\n",
       "      <th>2012</th>\n",
       "      <th>2013</th>\n",
       "      <th>2014</th>\n",
       "    </tr>\n",
       "  </thead>\n",
       "  <tbody>\n",
       "    <tr>\n",
       "      <th>37628</th>\n",
       "      <td>USA</td>\n",
       "      <td>CAP</td>\n",
       "      <td>Crop and animal production, hunting and relate...</td>\n",
       "      <td>A01</td>\n",
       "      <td>36562.03</td>\n",
       "      <td>36147.69</td>\n",
       "      <td>31620.58</td>\n",
       "      <td>52889.96</td>\n",
       "      <td>73930.93</td>\n",
       "      <td>58300.19</td>\n",
       "      <td>54008.40</td>\n",
       "      <td>63174.49</td>\n",
       "      <td>73658.84</td>\n",
       "      <td>58221.37</td>\n",
       "      <td>81956.07</td>\n",
       "      <td>120604.93</td>\n",
       "      <td>99220.86</td>\n",
       "      <td>136935.19</td>\n",
       "      <td>121739.10</td>\n",
       "    </tr>\n",
       "    <tr>\n",
       "      <th>37629</th>\n",
       "      <td>USA</td>\n",
       "      <td>CAP</td>\n",
       "      <td>Forestry and logging</td>\n",
       "      <td>A02</td>\n",
       "      <td>7087.51</td>\n",
       "      <td>6994.14</td>\n",
       "      <td>6859.51</td>\n",
       "      <td>6962.68</td>\n",
       "      <td>5646.44</td>\n",
       "      <td>6602.47</td>\n",
       "      <td>7876.42</td>\n",
       "      <td>6545.57</td>\n",
       "      <td>5972.84</td>\n",
       "      <td>5490.32</td>\n",
       "      <td>6971.18</td>\n",
       "      <td>6360.98</td>\n",
       "      <td>7206.20</td>\n",
       "      <td>7375.92</td>\n",
       "      <td>7899.76</td>\n",
       "    </tr>\n",
       "    <tr>\n",
       "      <th>37630</th>\n",
       "      <td>USA</td>\n",
       "      <td>CAP</td>\n",
       "      <td>Fishing and aquaculture</td>\n",
       "      <td>A03</td>\n",
       "      <td>2109.11</td>\n",
       "      <td>2110.42</td>\n",
       "      <td>1856.56</td>\n",
       "      <td>2165.52</td>\n",
       "      <td>1728.88</td>\n",
       "      <td>1848.36</td>\n",
       "      <td>2158.94</td>\n",
       "      <td>2367.26</td>\n",
       "      <td>2774.24</td>\n",
       "      <td>2849.07</td>\n",
       "      <td>3528.30</td>\n",
       "      <td>3570.41</td>\n",
       "      <td>3929.79</td>\n",
       "      <td>4263.28</td>\n",
       "      <td>4824.45</td>\n",
       "    </tr>\n",
       "    <tr>\n",
       "      <th>37631</th>\n",
       "      <td>USA</td>\n",
       "      <td>CAP</td>\n",
       "      <td>Mining and quarrying</td>\n",
       "      <td>B</td>\n",
       "      <td>73859.26</td>\n",
       "      <td>85112.97</td>\n",
       "      <td>76838.64</td>\n",
       "      <td>102338.22</td>\n",
       "      <td>125064.30</td>\n",
       "      <td>178669.32</td>\n",
       "      <td>215504.59</td>\n",
       "      <td>249440.05</td>\n",
       "      <td>327155.43</td>\n",
       "      <td>223839.59</td>\n",
       "      <td>260443.99</td>\n",
       "      <td>316163.04</td>\n",
       "      <td>318158.35</td>\n",
       "      <td>345837.49</td>\n",
       "      <td>351747.98</td>\n",
       "    </tr>\n",
       "    <tr>\n",
       "      <th>37632</th>\n",
       "      <td>USA</td>\n",
       "      <td>CAP</td>\n",
       "      <td>Manufacture of food products, beverages and to...</td>\n",
       "      <td>C10-C12</td>\n",
       "      <td>91122.75</td>\n",
       "      <td>100702.09</td>\n",
       "      <td>101300.54</td>\n",
       "      <td>101391.74</td>\n",
       "      <td>97000.09</td>\n",
       "      <td>98526.83</td>\n",
       "      <td>112179.11</td>\n",
       "      <td>108820.62</td>\n",
       "      <td>113600.38</td>\n",
       "      <td>155728.87</td>\n",
       "      <td>140120.74</td>\n",
       "      <td>126746.55</td>\n",
       "      <td>135457.15</td>\n",
       "      <td>139506.16</td>\n",
       "      <td>143959.96</td>\n",
       "    </tr>\n",
       "  </tbody>\n",
       "</table>\n",
       "</div>"
      ],
      "text/plain": [
       "      country variable                                        description  \\\n",
       "37628     USA      CAP  Crop and animal production, hunting and relate...   \n",
       "37629     USA      CAP                               Forestry and logging   \n",
       "37630     USA      CAP                            Fishing and aquaculture   \n",
       "37631     USA      CAP                               Mining and quarrying   \n",
       "37632     USA      CAP  Manufacture of food products, beverages and to...   \n",
       "\n",
       "          code      2000       2001       2002       2003       2004  \\\n",
       "37628      A01  36562.03   36147.69   31620.58   52889.96   73930.93   \n",
       "37629      A02   7087.51    6994.14    6859.51    6962.68    5646.44   \n",
       "37630      A03   2109.11    2110.42    1856.56    2165.52    1728.88   \n",
       "37631        B  73859.26   85112.97   76838.64  102338.22  125064.30   \n",
       "37632  C10-C12  91122.75  100702.09  101300.54  101391.74   97000.09   \n",
       "\n",
       "            2005       2006       2007       2008       2009       2010  \\\n",
       "37628   58300.19   54008.40   63174.49   73658.84   58221.37   81956.07   \n",
       "37629    6602.47    7876.42    6545.57    5972.84    5490.32    6971.18   \n",
       "37630    1848.36    2158.94    2367.26    2774.24    2849.07    3528.30   \n",
       "37631  178669.32  215504.59  249440.05  327155.43  223839.59  260443.99   \n",
       "37632   98526.83  112179.11  108820.62  113600.38  155728.87  140120.74   \n",
       "\n",
       "            2011       2012       2013       2014  \n",
       "37628  120604.93   99220.86  136935.19  121739.10  \n",
       "37629    6360.98    7206.20    7375.92    7899.76  \n",
       "37630    3570.41    3929.79    4263.28    4824.45  \n",
       "37631  316163.04  318158.35  345837.49  351747.98  \n",
       "37632  126746.55  135457.15  139506.16  143959.96  "
      ]
     },
     "execution_count": 101,
     "metadata": {},
     "output_type": "execute_result"
    }
   ],
   "source": [
    "df_prod = df_prod[df_prod.country == 'USA']\n",
    "df_prod.head()"
   ]
  },
  {
   "cell_type": "markdown",
   "metadata": {},
   "source": [
    "Using the notes provided in the sheet the variables listed that we are intrested in are EMPE or employees employed, GO which is value added and H_EMPE or hours employees work. we also need the tech industry and not all workers in the US"
   ]
  },
  {
   "cell_type": "code",
   "execution_count": 102,
   "metadata": {},
   "outputs": [
    {
     "data": {
      "text/html": [
       "<div>\n",
       "<style>\n",
       "    .dataframe thead tr:only-child th {\n",
       "        text-align: right;\n",
       "    }\n",
       "\n",
       "    .dataframe thead th {\n",
       "        text-align: left;\n",
       "    }\n",
       "\n",
       "    .dataframe tbody tr th {\n",
       "        vertical-align: top;\n",
       "    }\n",
       "</style>\n",
       "<table border=\"1\" class=\"dataframe\">\n",
       "  <thead>\n",
       "    <tr style=\"text-align: right;\">\n",
       "      <th></th>\n",
       "      <th>country</th>\n",
       "      <th>variable</th>\n",
       "      <th>description</th>\n",
       "      <th>code</th>\n",
       "      <th>2000</th>\n",
       "      <th>2001</th>\n",
       "      <th>2002</th>\n",
       "      <th>2003</th>\n",
       "      <th>2004</th>\n",
       "      <th>2005</th>\n",
       "      <th>2006</th>\n",
       "      <th>2007</th>\n",
       "      <th>2008</th>\n",
       "      <th>2009</th>\n",
       "      <th>2010</th>\n",
       "      <th>2011</th>\n",
       "      <th>2012</th>\n",
       "      <th>2013</th>\n",
       "      <th>2014</th>\n",
       "    </tr>\n",
       "  </thead>\n",
       "  <tbody>\n",
       "    <tr>\n",
       "      <th>37667</th>\n",
       "      <td>USA</td>\n",
       "      <td>CAP</td>\n",
       "      <td>Computer programming, consultancy and related ...</td>\n",
       "      <td>J62_J63</td>\n",
       "      <td>-20314.980</td>\n",
       "      <td>2141.960</td>\n",
       "      <td>35372.710</td>\n",
       "      <td>44636.660</td>\n",
       "      <td>53794.060</td>\n",
       "      <td>48622.490</td>\n",
       "      <td>58514.820</td>\n",
       "      <td>51228.650</td>\n",
       "      <td>54759.240</td>\n",
       "      <td>57227.520</td>\n",
       "      <td>62329.120</td>\n",
       "      <td>67949.340</td>\n",
       "      <td>50489.050</td>\n",
       "      <td>55137.930</td>\n",
       "      <td>60811.580</td>\n",
       "    </tr>\n",
       "    <tr>\n",
       "      <th>37723</th>\n",
       "      <td>USA</td>\n",
       "      <td>COMP</td>\n",
       "      <td>Computer programming, consultancy and related ...</td>\n",
       "      <td>J62_J63</td>\n",
       "      <td>154886.000</td>\n",
       "      <td>152487.000</td>\n",
       "      <td>132577.000</td>\n",
       "      <td>130882.000</td>\n",
       "      <td>139638.000</td>\n",
       "      <td>151059.000</td>\n",
       "      <td>166141.000</td>\n",
       "      <td>171510.000</td>\n",
       "      <td>180052.000</td>\n",
       "      <td>177452.000</td>\n",
       "      <td>187564.000</td>\n",
       "      <td>206490.000</td>\n",
       "      <td>230252.000</td>\n",
       "      <td>242166.000</td>\n",
       "      <td>263055.000</td>\n",
       "    </tr>\n",
       "    <tr>\n",
       "      <th>37779</th>\n",
       "      <td>USA</td>\n",
       "      <td>EMP</td>\n",
       "      <td>Computer programming, consultancy and related ...</td>\n",
       "      <td>J62_J63</td>\n",
       "      <td>2388.685</td>\n",
       "      <td>2619.405</td>\n",
       "      <td>2736.758</td>\n",
       "      <td>2658.372</td>\n",
       "      <td>2776.804</td>\n",
       "      <td>2723.198</td>\n",
       "      <td>2866.511</td>\n",
       "      <td>2568.384</td>\n",
       "      <td>2705.458</td>\n",
       "      <td>2568.566</td>\n",
       "      <td>2608.885</td>\n",
       "      <td>2677.615</td>\n",
       "      <td>2710.227</td>\n",
       "      <td>2970.547</td>\n",
       "      <td>3175.341</td>\n",
       "    </tr>\n",
       "    <tr>\n",
       "      <th>37835</th>\n",
       "      <td>USA</td>\n",
       "      <td>EMPE</td>\n",
       "      <td>Computer programming, consultancy and related ...</td>\n",
       "      <td>J62_J63</td>\n",
       "      <td>2237.349</td>\n",
       "      <td>2440.779</td>\n",
       "      <td>2537.607</td>\n",
       "      <td>2420.494</td>\n",
       "      <td>2533.113</td>\n",
       "      <td>2490.394</td>\n",
       "      <td>2646.724</td>\n",
       "      <td>2365.909</td>\n",
       "      <td>2488.180</td>\n",
       "      <td>2371.511</td>\n",
       "      <td>2412.194</td>\n",
       "      <td>2524.956</td>\n",
       "      <td>2541.160</td>\n",
       "      <td>2787.579</td>\n",
       "      <td>3014.914</td>\n",
       "    </tr>\n",
       "    <tr>\n",
       "      <th>37891</th>\n",
       "      <td>USA</td>\n",
       "      <td>GO</td>\n",
       "      <td>Computer programming, consultancy and related ...</td>\n",
       "      <td>J62_J63</td>\n",
       "      <td>280364.000</td>\n",
       "      <td>281402.000</td>\n",
       "      <td>276979.000</td>\n",
       "      <td>276879.000</td>\n",
       "      <td>287506.000</td>\n",
       "      <td>307000.000</td>\n",
       "      <td>332608.000</td>\n",
       "      <td>369287.000</td>\n",
       "      <td>404176.000</td>\n",
       "      <td>398632.000</td>\n",
       "      <td>431082.000</td>\n",
       "      <td>466334.000</td>\n",
       "      <td>504928.000</td>\n",
       "      <td>527453.000</td>\n",
       "      <td>560922.000</td>\n",
       "    </tr>\n",
       "  </tbody>\n",
       "</table>\n",
       "</div>"
      ],
      "text/plain": [
       "      country variable                                        description  \\\n",
       "37667     USA      CAP  Computer programming, consultancy and related ...   \n",
       "37723     USA     COMP  Computer programming, consultancy and related ...   \n",
       "37779     USA      EMP  Computer programming, consultancy and related ...   \n",
       "37835     USA     EMPE  Computer programming, consultancy and related ...   \n",
       "37891     USA       GO  Computer programming, consultancy and related ...   \n",
       "\n",
       "          code        2000        2001        2002        2003        2004  \\\n",
       "37667  J62_J63  -20314.980    2141.960   35372.710   44636.660   53794.060   \n",
       "37723  J62_J63  154886.000  152487.000  132577.000  130882.000  139638.000   \n",
       "37779  J62_J63    2388.685    2619.405    2736.758    2658.372    2776.804   \n",
       "37835  J62_J63    2237.349    2440.779    2537.607    2420.494    2533.113   \n",
       "37891  J62_J63  280364.000  281402.000  276979.000  276879.000  287506.000   \n",
       "\n",
       "             2005        2006        2007        2008        2009        2010  \\\n",
       "37667   48622.490   58514.820   51228.650   54759.240   57227.520   62329.120   \n",
       "37723  151059.000  166141.000  171510.000  180052.000  177452.000  187564.000   \n",
       "37779    2723.198    2866.511    2568.384    2705.458    2568.566    2608.885   \n",
       "37835    2490.394    2646.724    2365.909    2488.180    2371.511    2412.194   \n",
       "37891  307000.000  332608.000  369287.000  404176.000  398632.000  431082.000   \n",
       "\n",
       "             2011        2012        2013        2014  \n",
       "37667   67949.340   50489.050   55137.930   60811.580  \n",
       "37723  206490.000  230252.000  242166.000  263055.000  \n",
       "37779    2677.615    2710.227    2970.547    3175.341  \n",
       "37835    2524.956    2541.160    2787.579    3014.914  \n",
       "37891  466334.000  504928.000  527453.000  560922.000  "
      ]
     },
     "execution_count": 102,
     "metadata": {},
     "output_type": "execute_result"
    }
   ],
   "source": [
    "df_prod = df_prod[df_prod.code == 'J62_J63']\n",
    "df_prod.head()"
   ]
  },
  {
   "cell_type": "markdown",
   "metadata": {},
   "source": [
    "Now we have isolated it to the US and to tech workers we can now find out the productivty the average worker creates by comparing the hours worked to the number of employees to how much the industry produced in total."
   ]
  },
  {
   "cell_type": "markdown",
   "metadata": {},
   "source": [
    "# Conclusion"
   ]
  },
  {
   "cell_type": "markdown",
   "metadata": {},
   "source": [
    "We have found some of the early signs to help show when mental health issues will pop up in people within the tech industry and we have seen that using a sample set of the population that mental health affects around a 25% of the workers within the tech industry and costs around 5% of the total production meaning a loss of over 5 million dollars."
   ]
  },
  {
   "cell_type": "code",
   "execution_count": null,
   "metadata": {
    "collapsed": true
   },
   "outputs": [],
   "source": []
  }
 ],
 "metadata": {
  "kernelspec": {
   "display_name": "Python 3",
   "language": "python",
   "name": "python3"
  },
  "language_info": {
   "codemirror_mode": {
    "name": "ipython",
    "version": 3
   },
   "file_extension": ".py",
   "mimetype": "text/x-python",
   "name": "python",
   "nbconvert_exporter": "python",
   "pygments_lexer": "ipython3",
   "version": "3.6.1"
  }
 },
 "nbformat": 4,
 "nbformat_minor": 2
}
